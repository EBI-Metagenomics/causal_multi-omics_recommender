{
 "cells": [
  {
   "cell_type": "code",
   "execution_count": 1,
   "metadata": {},
   "outputs": [],
   "source": [
    "import pandas as pd\n",
    "import matplotlib.pyplot as plt\n",
    "import ast\n",
    "import numpy as np\n",
    "import random\n",
    "from scipy.stats import spearmanr"
   ]
  },
  {
   "cell_type": "code",
   "execution_count": 2,
   "metadata": {},
   "outputs": [
    {
     "data": {
      "text/html": [
       "<div>\n",
       "<style scoped>\n",
       "    .dataframe tbody tr th:only-of-type {\n",
       "        vertical-align: middle;\n",
       "    }\n",
       "\n",
       "    .dataframe tbody tr th {\n",
       "        vertical-align: top;\n",
       "    }\n",
       "\n",
       "    .dataframe thead th {\n",
       "        text-align: right;\n",
       "    }\n",
       "</style>\n",
       "<table border=\"1\" class=\"dataframe\">\n",
       "  <thead>\n",
       "    <tr style=\"text-align: right;\">\n",
       "      <th></th>\n",
       "      <th>alphas</th>\n",
       "      <th>mae_list</th>\n",
       "      <th>rsquared</th>\n",
       "      <th>all_maes</th>\n",
       "    </tr>\n",
       "  </thead>\n",
       "  <tbody>\n",
       "    <tr>\n",
       "      <th>0</th>\n",
       "      <td>0.01</td>\n",
       "      <td>1.209717</td>\n",
       "      <td>-0.101177</td>\n",
       "      <td>[1.2833111901161918, 1.2427715440558973, 1.262...</td>\n",
       "    </tr>\n",
       "    <tr>\n",
       "      <th>1</th>\n",
       "      <td>0.02</td>\n",
       "      <td>1.216642</td>\n",
       "      <td>-0.077018</td>\n",
       "      <td>[1.2428841395488492, 1.1996455821979584, 1.232...</td>\n",
       "    </tr>\n",
       "    <tr>\n",
       "      <th>2</th>\n",
       "      <td>0.03</td>\n",
       "      <td>1.199347</td>\n",
       "      <td>-0.076150</td>\n",
       "      <td>[1.219686928271385, 1.171880594452226, 1.17760...</td>\n",
       "    </tr>\n",
       "    <tr>\n",
       "      <th>3</th>\n",
       "      <td>0.04</td>\n",
       "      <td>1.180015</td>\n",
       "      <td>-0.042372</td>\n",
       "      <td>[1.1932068236057167, 1.1766033764224906, 1.172...</td>\n",
       "    </tr>\n",
       "    <tr>\n",
       "      <th>4</th>\n",
       "      <td>0.05</td>\n",
       "      <td>1.167393</td>\n",
       "      <td>-0.049287</td>\n",
       "      <td>[1.1390925473820197, 1.1572182267106577, 1.156...</td>\n",
       "    </tr>\n",
       "    <tr>\n",
       "      <th>...</th>\n",
       "      <td>...</td>\n",
       "      <td>...</td>\n",
       "      <td>...</td>\n",
       "      <td>...</td>\n",
       "    </tr>\n",
       "    <tr>\n",
       "      <th>95</th>\n",
       "      <td>0.96</td>\n",
       "      <td>1.047324</td>\n",
       "      <td>0.166238</td>\n",
       "      <td>[1.0438014028308547, 1.0529261333002478, 1.019...</td>\n",
       "    </tr>\n",
       "    <tr>\n",
       "      <th>96</th>\n",
       "      <td>0.97</td>\n",
       "      <td>1.043135</td>\n",
       "      <td>0.179458</td>\n",
       "      <td>[1.000945664254834, 1.0431332753448128, 1.0390...</td>\n",
       "    </tr>\n",
       "    <tr>\n",
       "      <th>97</th>\n",
       "      <td>0.98</td>\n",
       "      <td>1.049270</td>\n",
       "      <td>0.165032</td>\n",
       "      <td>[1.077785886813751, 1.0709375766016795, 1.0277...</td>\n",
       "    </tr>\n",
       "    <tr>\n",
       "      <th>98</th>\n",
       "      <td>0.99</td>\n",
       "      <td>1.048554</td>\n",
       "      <td>0.166442</td>\n",
       "      <td>[1.0546607788032751, 1.053918760446371, 1.0529...</td>\n",
       "    </tr>\n",
       "    <tr>\n",
       "      <th>99</th>\n",
       "      <td>1.00</td>\n",
       "      <td>1.045758</td>\n",
       "      <td>0.169202</td>\n",
       "      <td>[1.010423817373397, 1.079219520439427, 1.07637...</td>\n",
       "    </tr>\n",
       "  </tbody>\n",
       "</table>\n",
       "<p>100 rows × 4 columns</p>\n",
       "</div>"
      ],
      "text/plain": [
       "    alphas  mae_list  rsquared  \\\n",
       "0     0.01  1.209717 -0.101177   \n",
       "1     0.02  1.216642 -0.077018   \n",
       "2     0.03  1.199347 -0.076150   \n",
       "3     0.04  1.180015 -0.042372   \n",
       "4     0.05  1.167393 -0.049287   \n",
       "..     ...       ...       ...   \n",
       "95    0.96  1.047324  0.166238   \n",
       "96    0.97  1.043135  0.179458   \n",
       "97    0.98  1.049270  0.165032   \n",
       "98    0.99  1.048554  0.166442   \n",
       "99    1.00  1.045758  0.169202   \n",
       "\n",
       "                                             all_maes  \n",
       "0   [1.2833111901161918, 1.2427715440558973, 1.262...  \n",
       "1   [1.2428841395488492, 1.1996455821979584, 1.232...  \n",
       "2   [1.219686928271385, 1.171880594452226, 1.17760...  \n",
       "3   [1.1932068236057167, 1.1766033764224906, 1.172...  \n",
       "4   [1.1390925473820197, 1.1572182267106577, 1.156...  \n",
       "..                                                ...  \n",
       "95  [1.0438014028308547, 1.0529261333002478, 1.019...  \n",
       "96  [1.000945664254834, 1.0431332753448128, 1.0390...  \n",
       "97  [1.077785886813751, 1.0709375766016795, 1.0277...  \n",
       "98  [1.0546607788032751, 1.053918760446371, 1.0529...  \n",
       "99  [1.010423817373397, 1.079219520439427, 1.07637...  \n",
       "\n",
       "[100 rows x 4 columns]"
      ]
     },
     "execution_count": 2,
     "metadata": {},
     "output_type": "execute_result"
    }
   ],
   "source": [
    "alpha_screen = pd.read_csv(\"../../data/alpha_mae_df_magnet.csv\", index_col=0)\n",
    "alpha_screen"
   ]
  },
  {
   "cell_type": "code",
   "execution_count": 3,
   "metadata": {},
   "outputs": [
    {
     "data": {
      "text/plain": [
       "Text(0, 0.5, 'MAE')"
      ]
     },
     "execution_count": 3,
     "metadata": {},
     "output_type": "execute_result"
    },
    {
     "data": {
      "image/png": "[encoded data removed]",
      "text/plain": [
       "<Figure size 640x480 with 1 Axes>"
      ]
     },
     "metadata": {},
     "output_type": "display_data"
    }
   ],
   "source": [
    "plt.scatter(x=alpha_screen.alphas, y= alpha_screen.mae_list)\n",
    "plt.xlabel(\"Alpha\")\n",
    "plt.ylabel(\"MAE\")"
   ]
  },
  {
   "cell_type": "code",
   "execution_count": 4,
   "metadata": {},
   "outputs": [],
   "source": [
    "error_low = []\n",
    "error_high = []\n",
    "min_mae = np.inf\n",
    "best_alpha = None\n",
    "best_alpha_stdev = None\n",
    "for index, row in alpha_screen.iterrows():\n",
    "    cv =  ast.literal_eval(row[\"all_maes\"])\n",
    "    error_low.append(np.percentile(cv, 5))\n",
    "    error_high.append(np.percentile(cv, 95))\n",
    "    mean_mae = row[\"mae_list\"]\n",
    "    if mean_mae < min_mae:\n",
    "        min_mae = mean_mae\n",
    "        best_alpha = row[\"alphas\"]\n",
    "        best_alpha_stdev = np.std(cv)\n"
   ]
  },
  {
   "cell_type": "code",
   "execution_count": 5,
   "metadata": {},
   "outputs": [
    {
     "data": {
      "text/plain": [
       "0.62"
      ]
     },
     "execution_count": 5,
     "metadata": {},
     "output_type": "execute_result"
    }
   ],
   "source": [
    "best_alpha"
   ]
  },
  {
   "cell_type": "code",
   "execution_count": 6,
   "metadata": {},
   "outputs": [
    {
     "data": {
      "text/plain": [
       "0.036668250195566694"
      ]
     },
     "execution_count": 6,
     "metadata": {},
     "output_type": "execute_result"
    }
   ],
   "source": [
    "best_alpha_stdev"
   ]
  },
  {
   "cell_type": "code",
   "execution_count": 7,
   "metadata": {},
   "outputs": [
    {
     "data": {
      "text/plain": [
       "1.038424939213923"
      ]
     },
     "execution_count": 7,
     "metadata": {},
     "output_type": "execute_result"
    }
   ],
   "source": [
    "min_mae"
   ]
  },
  {
   "cell_type": "code",
   "execution_count": 8,
   "metadata": {},
   "outputs": [
    {
     "data": {
      "text/plain": [
       "1.0750931894094897"
      ]
     },
     "execution_count": 8,
     "metadata": {},
     "output_type": "execute_result"
    }
   ],
   "source": [
    "best_alpha_plus_std = min_mae + best_alpha_stdev\n",
    "best_alpha_plus_std"
   ]
  },
  {
   "cell_type": "code",
   "execution_count": 9,
   "metadata": {},
   "outputs": [
    {
     "data": {
      "text/plain": [
       "0.8400000000000001"
      ]
     },
     "execution_count": 9,
     "metadata": {},
     "output_type": "execute_result"
    }
   ],
   "source": [
    "chosen_alpha_df = alpha_screen[alpha_screen[\"mae_list\"] < best_alpha_plus_std]\n",
    "chosen_alpha_df = chosen_alpha_df[chosen_alpha_df[\"alphas\"] > best_alpha]\n",
    "chosen_alpha_df.sort_values(by=\"mae_list\", inplace=True)\n",
    "chosen_alpha = chosen_alpha_df[\"alphas\"].iloc[0]\n",
    "chosen_alpha"
   ]
  },
  {
   "cell_type": "code",
   "execution_count": 10,
   "metadata": {},
   "outputs": [],
   "source": [
    "light_green = (0.0, 0.6, 0.5)\n",
    "pink = (1, 0.078, 0.576)"
   ]
  },
  {
   "cell_type": "code",
   "execution_count": 11,
   "metadata": {},
   "outputs": [
    {
     "data": {
      "text/plain": [
       "<matplotlib.legend.Legend at 0x7864b2ec7b50>"
      ]
     },
     "execution_count": 11,
     "metadata": {},
     "output_type": "execute_result"
    },
    {
     "data": {
      "image/png": "[encoded data removed]",
      "text/plain": [
       "<Figure size 640x480 with 1 Axes>"
      ]
     },
     "metadata": {},
     "output_type": "display_data"
    }
   ],
   "source": [
    "plt.scatter(x=alpha_screen.alphas, \n",
    "            y= alpha_screen.mae_list,\n",
    "            c='k',\n",
    "            label=\"mean MAE\")\n",
    "plt.vlines(alpha_screen.alphas, \n",
    "           error_low, \n",
    "           error_high,\n",
    "           colors='k',\n",
    "           label = \"5th & 95th percentile\")\n",
    "plt.axvline(x=best_alpha, color=light_green, linestyle='--', label = \"best alpha\")\n",
    "plt.axvline(x=chosen_alpha, color=pink, linestyle='--', label = \"chosen alpha\")\n",
    "plt.xlabel(\"Alpha\")\n",
    "plt.ylabel(\"MAE\")\n",
    "plt.legend(loc=\"lower right\")"
   ]
  },
  {
   "cell_type": "code",
   "execution_count": 15,
   "metadata": {},
   "outputs": [
    {
     "data": {
      "text/html": [
       "<div>\n",
       "<style scoped>\n",
       "    .dataframe tbody tr th:only-of-type {\n",
       "        vertical-align: middle;\n",
       "    }\n",
       "\n",
       "    .dataframe tbody tr th {\n",
       "        vertical-align: top;\n",
       "    }\n",
       "\n",
       "    .dataframe thead th {\n",
       "        text-align: right;\n",
       "    }\n",
       "</style>\n",
       "<table border=\"1\" class=\"dataframe\">\n",
       "  <thead>\n",
       "    <tr style=\"text-align: right;\">\n",
       "      <th></th>\n",
       "      <th>Gene</th>\n",
       "      <th>ave_MAE</th>\n",
       "    </tr>\n",
       "  </thead>\n",
       "  <tbody>\n",
       "    <tr>\n",
       "      <th>0</th>\n",
       "      <td>Feature_92</td>\n",
       "      <td>1.177807</td>\n",
       "    </tr>\n",
       "    <tr>\n",
       "      <th>1</th>\n",
       "      <td>Feature_39</td>\n",
       "      <td>1.178260</td>\n",
       "    </tr>\n",
       "    <tr>\n",
       "      <th>2</th>\n",
       "      <td>Feature_97</td>\n",
       "      <td>1.178057</td>\n",
       "    </tr>\n",
       "    <tr>\n",
       "      <th>3</th>\n",
       "      <td>Feature_54</td>\n",
       "      <td>1.178381</td>\n",
       "    </tr>\n",
       "    <tr>\n",
       "      <th>4</th>\n",
       "      <td>Feature_137</td>\n",
       "      <td>1.176920</td>\n",
       "    </tr>\n",
       "    <tr>\n",
       "      <th>...</th>\n",
       "      <td>...</td>\n",
       "      <td>...</td>\n",
       "    </tr>\n",
       "    <tr>\n",
       "      <th>171</th>\n",
       "      <td>Feature_62</td>\n",
       "      <td>1.176209</td>\n",
       "    </tr>\n",
       "    <tr>\n",
       "      <th>172</th>\n",
       "      <td>Feature_63</td>\n",
       "      <td>1.176891</td>\n",
       "    </tr>\n",
       "    <tr>\n",
       "      <th>173</th>\n",
       "      <td>Feature_57</td>\n",
       "      <td>1.179611</td>\n",
       "    </tr>\n",
       "    <tr>\n",
       "      <th>174</th>\n",
       "      <td>Feature_65</td>\n",
       "      <td>1.179094</td>\n",
       "    </tr>\n",
       "    <tr>\n",
       "      <th>175</th>\n",
       "      <td>Feature_121</td>\n",
       "      <td>1.178648</td>\n",
       "    </tr>\n",
       "  </tbody>\n",
       "</table>\n",
       "<p>176 rows × 2 columns</p>\n",
       "</div>"
      ],
      "text/plain": [
       "            Gene   ave_MAE\n",
       "0     Feature_92  1.177807\n",
       "1     Feature_39  1.178260\n",
       "2     Feature_97  1.178057\n",
       "3     Feature_54  1.178381\n",
       "4    Feature_137  1.176920\n",
       "..           ...       ...\n",
       "171   Feature_62  1.176209\n",
       "172   Feature_63  1.176891\n",
       "173   Feature_57  1.179611\n",
       "174   Feature_65  1.179094\n",
       "175  Feature_121  1.178648\n",
       "\n",
       "[176 rows x 2 columns]"
      ]
     },
     "execution_count": 15,
     "metadata": {},
     "output_type": "execute_result"
    }
   ],
   "source": [
    "mae_df = pd.read_csv(\"../../data/results_ave_mae_magnet.csv\", index_col=0)\n",
    "mae_df"
   ]
  },
  {
   "cell_type": "code",
   "execution_count": 17,
   "metadata": {},
   "outputs": [
    {
     "name": "stdout",
     "output_type": "stream",
     "text": [
      "            Gene   ave_MAE\n",
      "117   Feature_12  1.133891\n",
      "165  Feature_179  1.134746\n",
      "118  Feature_144  1.137448\n",
      "88    Feature_18  1.157777\n",
      "33   Feature_198  1.162699\n"
     ]
    },
    {
     "data": {
      "image/png": "[encoded data removed]",
      "text/plain": [
       "<Figure size 640x480 with 1 Axes>"
      ]
     },
     "metadata": {},
     "output_type": "display_data"
    }
   ],
   "source": [
    "mae_df.sort_values(by=\"ave_MAE\", inplace=True)\n",
    "\n",
    "print(mae_df.head())\n",
    "\n",
    "mae_list = list(mae_df[\"ave_MAE\"])\n",
    "feature_list = list(mae_df[\"Gene\"])\n",
    "x = np.linspace(0, len(mae_df), len(mae_df))\n",
    "y = mae_list\n",
    "\n",
    "plt.scatter(x, y, c='k')\n",
    "plt.annotate(feature_list[0], (x[0], y[0]), textcoords=\"offset points\", xytext=(70,-10), ha='center', arrowprops=dict(arrowstyle=\"-\", connectionstyle=\"arc3\"))\n",
    "plt.annotate(feature_list[1], (x[1], y[1]), textcoords=\"offset points\", xytext=(70,0), ha='center', arrowprops=dict(arrowstyle=\"-\", connectionstyle=\"arc3\"))\n",
    "plt.annotate(feature_list[2], (x[2], y[2]), textcoords=\"offset points\", xytext=(70,0), ha='center', arrowprops=dict(arrowstyle=\"-\", connectionstyle=\"arc3\"))\n",
    "plt.annotate(feature_list[3], (x[3], y[3]), textcoords=\"offset points\", xytext=(70,10), ha='center', arrowprops=dict(arrowstyle=\"-\", connectionstyle=\"arc3\"))\n",
    "plt.annotate(feature_list[4], (x[4], y[4]), textcoords=\"offset points\", xytext=(70,50), ha='center', arrowprops=dict(arrowstyle=\"-\", connectionstyle=\"arc3\"))\n",
    "\n",
    "plt.ylabel(\"Average MAE\")\n",
    "plt.xlabel(\"Ranked features\")\n",
    "plt.show()"
   ]
  },
  {
   "cell_type": "code",
   "execution_count": 19,
   "metadata": {},
   "outputs": [
    {
     "data": {
      "text/plain": [
       "Text(-0.18, 1.05, 'b)')"
      ]
     },
     "execution_count": 19,
     "metadata": {},
     "output_type": "execute_result"
    },
    {
     "data": {
      "image/png": "[encoded data removed]",
      "text/plain": [
       "<Figure size 1000x500 with 2 Axes>"
      ]
     },
     "metadata": {},
     "output_type": "display_data"
    }
   ],
   "source": [
    "fig, (ax1, ax2) = plt.subplots(1, 2, figsize=(10, 5))  # 1 row, 2 columns\n",
    "\n",
    "ax1.scatter(x=alpha_screen.alphas, \n",
    "            y= alpha_screen.mae_list,\n",
    "            c='k',\n",
    "            label=\"mean MAE\")\n",
    "ax1.vlines(alpha_screen.alphas, \n",
    "           error_low, \n",
    "           error_high,\n",
    "           colors='k',\n",
    "           label = \"5th & 95th percentile\")\n",
    "ax1.axvline(x=best_alpha, color=light_green, linestyle='--', label = \"best alpha\")\n",
    "ax1.axvline(x=chosen_alpha, color=pink, linestyle='--', label = \"chosen alpha\")\n",
    "ax1.set_xlabel(\"Alpha\")\n",
    "ax1.set_ylabel(\"MAE\")\n",
    "ax1.legend(loc=\"lower right\")\n",
    "\n",
    "ax2.scatter(x, y, c='k')\n",
    "ax2.annotate(feature_list[0], (x[0], y[0]), textcoords=\"offset points\", xytext=(70,-7), ha='center', arrowprops=dict(arrowstyle=\"-\", connectionstyle=\"arc3\"))\n",
    "ax2.annotate(feature_list[1], (x[1], y[1]), textcoords=\"offset points\", xytext=(70,10), ha='center', arrowprops=dict(arrowstyle=\"-\", connectionstyle=\"arc3\"))\n",
    "ax2.annotate(feature_list[2], (x[2], y[2]), textcoords=\"offset points\", xytext=(70,20), ha='center', arrowprops=dict(arrowstyle=\"-\", connectionstyle=\"arc3\"))\n",
    "ax2.annotate(feature_list[3], (x[3], y[3]), textcoords=\"offset points\", xytext=(70,30), ha='center', arrowprops=dict(arrowstyle=\"-\", connectionstyle=\"arc3\"))\n",
    "ax2.annotate(feature_list[4], (x[4], y[4]), textcoords=\"offset points\", xytext=(70,50), ha='center', arrowprops=dict(arrowstyle=\"-\", connectionstyle=\"arc3\"))\n",
    "\n",
    "ax2.set_ylabel(\"Average MAE\")\n",
    "ax2.set_xlabel(\"Ranked features\")\n",
    "\n",
    "ax1.text(-0.18, 1.05, 'a)', transform=ax1.transAxes, fontsize=12, fontweight='bold', va='top')\n",
    "ax2.text(-0.18, 1.05, 'b)', transform=ax2.transAxes, fontsize=12, fontweight='bold', va='top')"
   ]
  },
  {
   "cell_type": "code",
   "execution_count": 67,
   "metadata": {},
   "outputs": [
    {
     "data": {
      "text/plain": [
       "['LOC106566372',\n",
       " 'hba',\n",
       " 'LOC106607380',\n",
       " 'duox',\n",
       " 'LOC106583594',\n",
       " 'LOC106601072',\n",
       " 'pgfrl',\n",
       " 'LOC106601071',\n",
       " 'LOC106578021',\n",
       " 'LOC123724067',\n",
       " 'LOC106561261',\n",
       " 'LOC106596975',\n",
       " 'LOC106602771',\n",
       " 'otub1',\n",
       " 'LOC106603702',\n",
       " 'LOC106602341',\n",
       " 'LOC123723984',\n",
       " 'LOC106583220',\n",
       " 'LOC106588007',\n",
       " 'LOC106594147']"
      ]
     },
     "execution_count": 67,
     "metadata": {},
     "output_type": "execute_result"
    }
   ],
   "source": [
    "# Top genes\n",
    "top20genes = list(mae_df.head(20)[\"Gene\"])\n",
    "top20genes"
   ]
  },
  {
   "cell_type": "code",
   "execution_count": 39,
   "metadata": {},
   "outputs": [
    {
     "data": {
      "text/plain": [
       "['LOC106566372',\n",
       " 'hba',\n",
       " 'LOC106607380',\n",
       " 'duox',\n",
       " 'LOC106583594',\n",
       " 'LOC106601072',\n",
       " 'pgfrl',\n",
       " 'LOC106601071',\n",
       " 'LOC106578021',\n",
       " 'LOC123724067']"
      ]
     },
     "execution_count": 39,
     "metadata": {},
     "output_type": "execute_result"
    }
   ],
   "source": [
    "['LOC106566372',\n",
    " 'hba',\n",
    " 'LOC106607380',\n",
    " 'duox',\n",
    " 'LOC106583594',\n",
    " 'LOC106601072',\n",
    " 'pgfrl',\n",
    " 'LOC106601071',\n",
    " 'LOC106578021',\n",
    " 'LOC123724067']"
   ]
  },
  {
   "cell_type": "code",
   "execution_count": 17,
   "metadata": {},
   "outputs": [
    {
     "data": {
      "text/html": [
       "<div>\n",
       "<style scoped>\n",
       "    .dataframe tbody tr th:only-of-type {\n",
       "        vertical-align: middle;\n",
       "    }\n",
       "\n",
       "    .dataframe tbody tr th {\n",
       "        vertical-align: top;\n",
       "    }\n",
       "\n",
       "    .dataframe thead th {\n",
       "        text-align: right;\n",
       "    }\n",
       "</style>\n",
       "<table border=\"1\" class=\"dataframe\">\n",
       "  <thead>\n",
       "    <tr style=\"text-align: right;\">\n",
       "      <th></th>\n",
       "      <th>SYMBOL</th>\n",
       "      <th>ENTREZID</th>\n",
       "      <th>GENENAME</th>\n",
       "      <th>GO</th>\n",
       "      <th>ONTOLOGY</th>\n",
       "      <th>GO.term</th>\n",
       "    </tr>\n",
       "  </thead>\n",
       "  <tbody>\n",
       "    <tr>\n",
       "      <th>0</th>\n",
       "      <td>1433b</td>\n",
       "      <td>100196586.0</td>\n",
       "      <td>14-3-3 protein beta/alpha</td>\n",
       "      <td>NaN</td>\n",
       "      <td>NaN</td>\n",
       "      <td>NaN</td>\n",
       "    </tr>\n",
       "    <tr>\n",
       "      <th>1</th>\n",
       "      <td>143b2</td>\n",
       "      <td>100195171.0</td>\n",
       "      <td>14-3-3 protein beta/alpha-2</td>\n",
       "      <td>GO:0004497</td>\n",
       "      <td>MF</td>\n",
       "      <td>Term = \\monooxygenase activity\\\"\"</td>\n",
       "    </tr>\n",
       "    <tr>\n",
       "      <th>2</th>\n",
       "      <td>143g1</td>\n",
       "      <td>100380373.0</td>\n",
       "      <td>14-3-3 protein gamma-1</td>\n",
       "      <td>NaN</td>\n",
       "      <td>NaN</td>\n",
       "      <td>NaN</td>\n",
       "    </tr>\n",
       "    <tr>\n",
       "      <th>3</th>\n",
       "      <td>143g2</td>\n",
       "      <td>100194987.0</td>\n",
       "      <td>14-3-3 protein gamma-2</td>\n",
       "      <td>NaN</td>\n",
       "      <td>NaN</td>\n",
       "      <td>NaN</td>\n",
       "    </tr>\n",
       "    <tr>\n",
       "      <th>4</th>\n",
       "      <td>2a5e</td>\n",
       "      <td>100195340.0</td>\n",
       "      <td>Serine/threonine-protein phosphatase 2A 56 kDa...</td>\n",
       "      <td>GO:0000159</td>\n",
       "      <td>CC</td>\n",
       "      <td>Term = \\protein phosphatase type 2A complex\\\"\"</td>\n",
       "    </tr>\n",
       "    <tr>\n",
       "      <th>...</th>\n",
       "      <td>...</td>\n",
       "      <td>...</td>\n",
       "      <td>...</td>\n",
       "      <td>...</td>\n",
       "      <td>...</td>\n",
       "      <td>...</td>\n",
       "    </tr>\n",
       "    <tr>\n",
       "      <th>96336</th>\n",
       "      <td>zufsp</td>\n",
       "      <td>100380430.0</td>\n",
       "      <td>zinc finger containing ubiquitin peptidase 1</td>\n",
       "      <td>NaN</td>\n",
       "      <td>NaN</td>\n",
       "      <td>NaN</td>\n",
       "    </tr>\n",
       "    <tr>\n",
       "      <th>96337</th>\n",
       "      <td>zwilch</td>\n",
       "      <td>106584830.0</td>\n",
       "      <td>zwilch kinetochore protein</td>\n",
       "      <td>NaN</td>\n",
       "      <td>NaN</td>\n",
       "      <td>NaN</td>\n",
       "    </tr>\n",
       "    <tr>\n",
       "      <th>96338</th>\n",
       "      <td>zyg11</td>\n",
       "      <td>106613955.0</td>\n",
       "      <td>zyg-11 family member, cell cycle regulator</td>\n",
       "      <td>NaN</td>\n",
       "      <td>NaN</td>\n",
       "      <td>NaN</td>\n",
       "    </tr>\n",
       "    <tr>\n",
       "      <th>96339</th>\n",
       "      <td>zzef1</td>\n",
       "      <td>106567411.0</td>\n",
       "      <td>zinc finger, ZZ-type with EF hand domain 1</td>\n",
       "      <td>GO:0005509</td>\n",
       "      <td>MF</td>\n",
       "      <td>Term = \\calcium ion binding\\\"\"</td>\n",
       "    </tr>\n",
       "    <tr>\n",
       "      <th>96340</th>\n",
       "      <td>zzef1</td>\n",
       "      <td>106567411.0</td>\n",
       "      <td>zinc finger, ZZ-type with EF hand domain 1</td>\n",
       "      <td>GO:0008270</td>\n",
       "      <td>MF</td>\n",
       "      <td>Term = \\zinc ion binding\\\"\"</td>\n",
       "    </tr>\n",
       "  </tbody>\n",
       "</table>\n",
       "<p>96341 rows × 6 columns</p>\n",
       "</div>"
      ],
      "text/plain": [
       "       SYMBOL     ENTREZID                                           GENENAME  \\\n",
       "0       1433b  100196586.0                          14-3-3 protein beta/alpha   \n",
       "1       143b2  100195171.0                        14-3-3 protein beta/alpha-2   \n",
       "2       143g1  100380373.0                             14-3-3 protein gamma-1   \n",
       "3       143g2  100194987.0                             14-3-3 protein gamma-2   \n",
       "4        2a5e  100195340.0  Serine/threonine-protein phosphatase 2A 56 kDa...   \n",
       "...       ...          ...                                                ...   \n",
       "96336   zufsp  100380430.0       zinc finger containing ubiquitin peptidase 1   \n",
       "96337  zwilch  106584830.0                         zwilch kinetochore protein   \n",
       "96338   zyg11  106613955.0         zyg-11 family member, cell cycle regulator   \n",
       "96339   zzef1  106567411.0         zinc finger, ZZ-type with EF hand domain 1   \n",
       "96340   zzef1  106567411.0         zinc finger, ZZ-type with EF hand domain 1   \n",
       "\n",
       "               GO ONTOLOGY                                          GO.term  \n",
       "0             NaN      NaN                                              NaN  \n",
       "1      GO:0004497       MF                Term = \\monooxygenase activity\\\"\"  \n",
       "2             NaN      NaN                                              NaN  \n",
       "3             NaN      NaN                                              NaN  \n",
       "4      GO:0000159       CC   Term = \\protein phosphatase type 2A complex\\\"\"  \n",
       "...           ...      ...                                              ...  \n",
       "96336         NaN      NaN                                              NaN  \n",
       "96337         NaN      NaN                                              NaN  \n",
       "96338         NaN      NaN                                              NaN  \n",
       "96339  GO:0005509       MF                   Term = \\calcium ion binding\\\"\"  \n",
       "96340  GO:0008270       MF                      Term = \\zinc ion binding\\\"\"  \n",
       "\n",
       "[96341 rows x 6 columns]"
      ]
     },
     "execution_count": 17,
     "metadata": {},
     "output_type": "execute_result"
    }
   ],
   "source": [
    "salmon_GO = pd.read_csv(\"../../data/salmon_GO_annotations.tsv\", sep='\\t')\n",
    "salmon_GO"
   ]
  },
  {
   "cell_type": "code",
   "execution_count": 65,
   "metadata": {},
   "outputs": [
    {
     "data": {
      "text/plain": [
       "(100, 6)"
      ]
     },
     "execution_count": 65,
     "metadata": {},
     "output_type": "execute_result"
    }
   ],
   "source": [
    "contains_hemoglobin = salmon_GO.dropna()\n",
    "contains_hemoglobin = contains_hemoglobin[contains_hemoglobin[\"GENENAME\"].str.contains(\"hemoglobin\")]\n",
    "contains_hemoglobin.shape"
   ]
  },
  {
   "cell_type": "code",
   "execution_count": 43,
   "metadata": {},
   "outputs": [
    {
     "data": {
      "text/plain": [
       "32357"
      ]
     },
     "execution_count": 43,
     "metadata": {},
     "output_type": "execute_result"
    }
   ],
   "source": [
    "# Calc for the probability of encountering hemoglobin genes 5 times\n",
    "all_gene_names = list(salmon_GO[\"GENENAME\"].unique())\n",
    "len(all_gene_names)"
   ]
  },
  {
   "cell_type": "code",
   "execution_count": 57,
   "metadata": {},
   "outputs": [],
   "source": [
    "hemoglobin_count_list = []\n",
    "for iteration in range(10000000):\n",
    "    random20 = random.sample(all_gene_names, 20)\n",
    "    hemoglobin_count = 0\n",
    "    for gene in random20:\n",
    "        if \"hemoglobin\" in str(gene):\n",
    "            hemoglobin_count += 1\n",
    "    hemoglobin_count_list.append(hemoglobin_count)"
   ]
  },
  {
   "cell_type": "code",
   "execution_count": 66,
   "metadata": {},
   "outputs": [
    {
     "data": {
      "text/plain": [
       "2"
      ]
     },
     "execution_count": 66,
     "metadata": {},
     "output_type": "execute_result"
    }
   ],
   "source": [
    "max(hemoglobin_count_list)"
   ]
  },
  {
   "cell_type": "code",
   "execution_count": 60,
   "metadata": {},
   "outputs": [
    {
     "data": {
      "text/plain": [
       "Text(0.5, 0, 'Number of hemoglobin genes')"
      ]
     },
     "execution_count": 60,
     "metadata": {},
     "output_type": "execute_result"
    },
    {
     "data": {
      "image/png": "[encoded data removed]",
      "text/plain": [
       "<Figure size 640x480 with 1 Axes>"
      ]
     },
     "metadata": {},
     "output_type": "display_data"
    }
   ],
   "source": [
    "plt.hist(hemoglobin_count_list, bins=1000, color='k')\n",
    "plt.xlabel(\"Number of hemoglobin genes\")"
   ]
  },
  {
   "cell_type": "code",
   "execution_count": 52,
   "metadata": {},
   "outputs": [
    {
     "data": {
      "text/plain": [
       "['ArfGAP with FG repeats 1b',\n",
       " 'uncharacterized LOC123723907',\n",
       " 'uncharacterized LOC106608428',\n",
       " 'K0090 protein',\n",
       " 'death-associated protein kinase 3',\n",
       " 'WD repeat containing, antisense to TP73',\n",
       " 'uncharacterized LOC106600526',\n",
       " 'cytosolic endo-beta-N-acetylglucosaminidase-like',\n",
       " 'phosphorylase b kinase regulatory subunit beta',\n",
       " 'insulin-like growth factor binding protein 5 paralog B1',\n",
       " 'probable H/ACA ribonucleoprotein complex subunit 1',\n",
       " 'zinc finger protein 710',\n",
       " 'cAMP-regulated phosphoprotein, 21',\n",
       " 'protein Wnt-3a',\n",
       " 'chromosome ssa05 CXorf65 homolog',\n",
       " 'mannose-specific lectin-like',\n",
       " 'lysine (K)-specific demethylase 2Ab',\n",
       " 'BRF2 RNA polymerase III transcription initiation factor subunit',\n",
       " 'uncharacterized LOC123727177',\n",
       " 'crystallin, mu']"
      ]
     },
     "execution_count": 52,
     "metadata": {},
     "output_type": "execute_result"
    }
   ],
   "source": [
    "random20"
   ]
  },
  {
   "cell_type": "code",
   "execution_count": 71,
   "metadata": {},
   "outputs": [
    {
     "data": {
      "text/html": [
       "<div>\n",
       "<style scoped>\n",
       "    .dataframe tbody tr th:only-of-type {\n",
       "        vertical-align: middle;\n",
       "    }\n",
       "\n",
       "    .dataframe tbody tr th {\n",
       "        vertical-align: top;\n",
       "    }\n",
       "\n",
       "    .dataframe thead th {\n",
       "        text-align: right;\n",
       "    }\n",
       "</style>\n",
       "<table border=\"1\" class=\"dataframe\">\n",
       "  <thead>\n",
       "    <tr style=\"text-align: right;\">\n",
       "      <th></th>\n",
       "      <th>1433b</th>\n",
       "      <th>143b2</th>\n",
       "      <th>143g1</th>\n",
       "      <th>2a5e</th>\n",
       "      <th>4f2</th>\n",
       "      <th>5nt1a</th>\n",
       "      <th>LOC100136352</th>\n",
       "      <th>LOC100136353</th>\n",
       "      <th>LOC100136354</th>\n",
       "      <th>LOC100136364</th>\n",
       "      <th>...</th>\n",
       "      <th>znt4</th>\n",
       "      <th>znt6</th>\n",
       "      <th>zranb2</th>\n",
       "      <th>zswim5</th>\n",
       "      <th>zswim8</th>\n",
       "      <th>zte38</th>\n",
       "      <th>zufsp</th>\n",
       "      <th>zyg11</th>\n",
       "      <th>zzef1</th>\n",
       "      <th>gutted.weight.kg</th>\n",
       "    </tr>\n",
       "  </thead>\n",
       "  <tbody>\n",
       "    <tr>\n",
       "      <th>F001</th>\n",
       "      <td>8.298729</td>\n",
       "      <td>10.908738</td>\n",
       "      <td>9.425202</td>\n",
       "      <td>8.779539</td>\n",
       "      <td>10.929669</td>\n",
       "      <td>7.111388</td>\n",
       "      <td>12.583505</td>\n",
       "      <td>11.712159</td>\n",
       "      <td>10.124062</td>\n",
       "      <td>8.345641</td>\n",
       "      <td>...</td>\n",
       "      <td>8.489126</td>\n",
       "      <td>8.190617</td>\n",
       "      <td>7.973296</td>\n",
       "      <td>7.882944</td>\n",
       "      <td>8.636611</td>\n",
       "      <td>8.999665</td>\n",
       "      <td>6.577016</td>\n",
       "      <td>7.471161</td>\n",
       "      <td>8.272468</td>\n",
       "      <td>3.240</td>\n",
       "    </tr>\n",
       "    <tr>\n",
       "      <th>F002</th>\n",
       "      <td>8.228803</td>\n",
       "      <td>10.642114</td>\n",
       "      <td>8.008146</td>\n",
       "      <td>8.664696</td>\n",
       "      <td>9.849611</td>\n",
       "      <td>7.783078</td>\n",
       "      <td>12.492871</td>\n",
       "      <td>12.026031</td>\n",
       "      <td>11.429684</td>\n",
       "      <td>7.701277</td>\n",
       "      <td>...</td>\n",
       "      <td>7.205885</td>\n",
       "      <td>8.132349</td>\n",
       "      <td>8.658153</td>\n",
       "      <td>7.593406</td>\n",
       "      <td>7.944367</td>\n",
       "      <td>9.163664</td>\n",
       "      <td>6.542679</td>\n",
       "      <td>6.748560</td>\n",
       "      <td>8.465317</td>\n",
       "      <td>4.180</td>\n",
       "    </tr>\n",
       "    <tr>\n",
       "      <th>F003</th>\n",
       "      <td>8.643025</td>\n",
       "      <td>10.539054</td>\n",
       "      <td>8.000962</td>\n",
       "      <td>8.201590</td>\n",
       "      <td>10.582260</td>\n",
       "      <td>7.636555</td>\n",
       "      <td>12.700801</td>\n",
       "      <td>11.418342</td>\n",
       "      <td>10.488037</td>\n",
       "      <td>8.113418</td>\n",
       "      <td>...</td>\n",
       "      <td>8.579031</td>\n",
       "      <td>8.124747</td>\n",
       "      <td>8.715461</td>\n",
       "      <td>7.483913</td>\n",
       "      <td>8.381856</td>\n",
       "      <td>8.696754</td>\n",
       "      <td>6.865387</td>\n",
       "      <td>7.501747</td>\n",
       "      <td>8.243687</td>\n",
       "      <td>5.890</td>\n",
       "    </tr>\n",
       "    <tr>\n",
       "      <th>F004</th>\n",
       "      <td>5.956833</td>\n",
       "      <td>10.835880</td>\n",
       "      <td>8.092081</td>\n",
       "      <td>8.547840</td>\n",
       "      <td>9.075364</td>\n",
       "      <td>8.207422</td>\n",
       "      <td>13.283415</td>\n",
       "      <td>11.583582</td>\n",
       "      <td>11.180475</td>\n",
       "      <td>7.705314</td>\n",
       "      <td>...</td>\n",
       "      <td>6.195422</td>\n",
       "      <td>7.561927</td>\n",
       "      <td>8.849315</td>\n",
       "      <td>8.027654</td>\n",
       "      <td>8.051427</td>\n",
       "      <td>9.126017</td>\n",
       "      <td>6.565920</td>\n",
       "      <td>6.900831</td>\n",
       "      <td>8.453580</td>\n",
       "      <td>4.890</td>\n",
       "    </tr>\n",
       "    <tr>\n",
       "      <th>F005</th>\n",
       "      <td>6.892844</td>\n",
       "      <td>11.015085</td>\n",
       "      <td>7.600201</td>\n",
       "      <td>8.461058</td>\n",
       "      <td>9.100262</td>\n",
       "      <td>7.466592</td>\n",
       "      <td>12.768129</td>\n",
       "      <td>11.846070</td>\n",
       "      <td>10.495586</td>\n",
       "      <td>7.677500</td>\n",
       "      <td>...</td>\n",
       "      <td>6.701055</td>\n",
       "      <td>7.873324</td>\n",
       "      <td>8.836080</td>\n",
       "      <td>8.150358</td>\n",
       "      <td>7.853622</td>\n",
       "      <td>9.499643</td>\n",
       "      <td>6.491205</td>\n",
       "      <td>7.128698</td>\n",
       "      <td>7.930806</td>\n",
       "      <td>3.980</td>\n",
       "    </tr>\n",
       "    <tr>\n",
       "      <th>...</th>\n",
       "      <td>...</td>\n",
       "      <td>...</td>\n",
       "      <td>...</td>\n",
       "      <td>...</td>\n",
       "      <td>...</td>\n",
       "      <td>...</td>\n",
       "      <td>...</td>\n",
       "      <td>...</td>\n",
       "      <td>...</td>\n",
       "      <td>...</td>\n",
       "      <td>...</td>\n",
       "      <td>...</td>\n",
       "      <td>...</td>\n",
       "      <td>...</td>\n",
       "      <td>...</td>\n",
       "      <td>...</td>\n",
       "      <td>...</td>\n",
       "      <td>...</td>\n",
       "      <td>...</td>\n",
       "      <td>...</td>\n",
       "      <td>...</td>\n",
       "    </tr>\n",
       "    <tr>\n",
       "      <th>F450</th>\n",
       "      <td>8.197073</td>\n",
       "      <td>10.629662</td>\n",
       "      <td>9.355759</td>\n",
       "      <td>8.723406</td>\n",
       "      <td>10.701376</td>\n",
       "      <td>7.170370</td>\n",
       "      <td>13.095476</td>\n",
       "      <td>11.476600</td>\n",
       "      <td>12.086811</td>\n",
       "      <td>7.735623</td>\n",
       "      <td>...</td>\n",
       "      <td>7.634688</td>\n",
       "      <td>8.306277</td>\n",
       "      <td>8.400094</td>\n",
       "      <td>7.608247</td>\n",
       "      <td>8.134562</td>\n",
       "      <td>8.630035</td>\n",
       "      <td>6.433649</td>\n",
       "      <td>7.553774</td>\n",
       "      <td>8.322352</td>\n",
       "      <td>1.645</td>\n",
       "    </tr>\n",
       "    <tr>\n",
       "      <th>F456</th>\n",
       "      <td>7.759628</td>\n",
       "      <td>11.055183</td>\n",
       "      <td>8.654288</td>\n",
       "      <td>9.059819</td>\n",
       "      <td>9.624544</td>\n",
       "      <td>7.364918</td>\n",
       "      <td>12.835405</td>\n",
       "      <td>11.793184</td>\n",
       "      <td>12.456062</td>\n",
       "      <td>7.485766</td>\n",
       "      <td>...</td>\n",
       "      <td>7.485766</td>\n",
       "      <td>6.749432</td>\n",
       "      <td>9.106140</td>\n",
       "      <td>7.485766</td>\n",
       "      <td>8.103360</td>\n",
       "      <td>7.977881</td>\n",
       "      <td>6.280543</td>\n",
       "      <td>7.023918</td>\n",
       "      <td>8.727422</td>\n",
       "      <td>1.980</td>\n",
       "    </tr>\n",
       "    <tr>\n",
       "      <th>F458</th>\n",
       "      <td>9.983777</td>\n",
       "      <td>11.766481</td>\n",
       "      <td>8.220540</td>\n",
       "      <td>8.019322</td>\n",
       "      <td>10.493871</td>\n",
       "      <td>7.168827</td>\n",
       "      <td>13.948246</td>\n",
       "      <td>11.870888</td>\n",
       "      <td>12.054974</td>\n",
       "      <td>8.744106</td>\n",
       "      <td>...</td>\n",
       "      <td>7.168827</td>\n",
       "      <td>7.375141</td>\n",
       "      <td>7.168827</td>\n",
       "      <td>7.375141</td>\n",
       "      <td>8.744106</td>\n",
       "      <td>7.051999</td>\n",
       "      <td>5.033837</td>\n",
       "      <td>6.163356</td>\n",
       "      <td>7.996756</td>\n",
       "      <td>1.120</td>\n",
       "    </tr>\n",
       "    <tr>\n",
       "      <th>F459</th>\n",
       "      <td>8.409117</td>\n",
       "      <td>10.899049</td>\n",
       "      <td>9.156758</td>\n",
       "      <td>8.108310</td>\n",
       "      <td>9.991265</td>\n",
       "      <td>7.827205</td>\n",
       "      <td>13.391611</td>\n",
       "      <td>11.956632</td>\n",
       "      <td>13.295898</td>\n",
       "      <td>6.904554</td>\n",
       "      <td>...</td>\n",
       "      <td>6.669984</td>\n",
       "      <td>6.399689</td>\n",
       "      <td>8.064149</td>\n",
       "      <td>5.999265</td>\n",
       "      <td>5.033837</td>\n",
       "      <td>7.879397</td>\n",
       "      <td>5.033837</td>\n",
       "      <td>5.999265</td>\n",
       "      <td>6.669984</td>\n",
       "      <td>0.960</td>\n",
       "    </tr>\n",
       "    <tr>\n",
       "      <th>F461</th>\n",
       "      <td>10.594237</td>\n",
       "      <td>11.204688</td>\n",
       "      <td>5.033837</td>\n",
       "      <td>8.015974</td>\n",
       "      <td>8.028348</td>\n",
       "      <td>8.265764</td>\n",
       "      <td>13.956726</td>\n",
       "      <td>11.525143</td>\n",
       "      <td>12.296248</td>\n",
       "      <td>5.033837</td>\n",
       "      <td>...</td>\n",
       "      <td>7.520792</td>\n",
       "      <td>6.127577</td>\n",
       "      <td>9.093489</td>\n",
       "      <td>5.969284</td>\n",
       "      <td>7.520792</td>\n",
       "      <td>7.298669</td>\n",
       "      <td>6.622175</td>\n",
       "      <td>6.851348</td>\n",
       "      <td>7.711522</td>\n",
       "      <td>3.890</td>\n",
       "    </tr>\n",
       "  </tbody>\n",
       "</table>\n",
       "<p>302 rows × 19410 columns</p>\n",
       "</div>"
      ],
      "text/plain": [
       "          1433b      143b2     143g1      2a5e        4f2     5nt1a  \\\n",
       "F001   8.298729  10.908738  9.425202  8.779539  10.929669  7.111388   \n",
       "F002   8.228803  10.642114  8.008146  8.664696   9.849611  7.783078   \n",
       "F003   8.643025  10.539054  8.000962  8.201590  10.582260  7.636555   \n",
       "F004   5.956833  10.835880  8.092081  8.547840   9.075364  8.207422   \n",
       "F005   6.892844  11.015085  7.600201  8.461058   9.100262  7.466592   \n",
       "...         ...        ...       ...       ...        ...       ...   \n",
       "F450   8.197073  10.629662  9.355759  8.723406  10.701376  7.170370   \n",
       "F456   7.759628  11.055183  8.654288  9.059819   9.624544  7.364918   \n",
       "F458   9.983777  11.766481  8.220540  8.019322  10.493871  7.168827   \n",
       "F459   8.409117  10.899049  9.156758  8.108310   9.991265  7.827205   \n",
       "F461  10.594237  11.204688  5.033837  8.015974   8.028348  8.265764   \n",
       "\n",
       "      LOC100136352  LOC100136353  LOC100136354  LOC100136364  ...      znt4  \\\n",
       "F001     12.583505     11.712159     10.124062      8.345641  ...  8.489126   \n",
       "F002     12.492871     12.026031     11.429684      7.701277  ...  7.205885   \n",
       "F003     12.700801     11.418342     10.488037      8.113418  ...  8.579031   \n",
       "F004     13.283415     11.583582     11.180475      7.705314  ...  6.195422   \n",
       "F005     12.768129     11.846070     10.495586      7.677500  ...  6.701055   \n",
       "...            ...           ...           ...           ...  ...       ...   \n",
       "F450     13.095476     11.476600     12.086811      7.735623  ...  7.634688   \n",
       "F456     12.835405     11.793184     12.456062      7.485766  ...  7.485766   \n",
       "F458     13.948246     11.870888     12.054974      8.744106  ...  7.168827   \n",
       "F459     13.391611     11.956632     13.295898      6.904554  ...  6.669984   \n",
       "F461     13.956726     11.525143     12.296248      5.033837  ...  7.520792   \n",
       "\n",
       "          znt6    zranb2    zswim5    zswim8     zte38     zufsp     zyg11  \\\n",
       "F001  8.190617  7.973296  7.882944  8.636611  8.999665  6.577016  7.471161   \n",
       "F002  8.132349  8.658153  7.593406  7.944367  9.163664  6.542679  6.748560   \n",
       "F003  8.124747  8.715461  7.483913  8.381856  8.696754  6.865387  7.501747   \n",
       "F004  7.561927  8.849315  8.027654  8.051427  9.126017  6.565920  6.900831   \n",
       "F005  7.873324  8.836080  8.150358  7.853622  9.499643  6.491205  7.128698   \n",
       "...        ...       ...       ...       ...       ...       ...       ...   \n",
       "F450  8.306277  8.400094  7.608247  8.134562  8.630035  6.433649  7.553774   \n",
       "F456  6.749432  9.106140  7.485766  8.103360  7.977881  6.280543  7.023918   \n",
       "F458  7.375141  7.168827  7.375141  8.744106  7.051999  5.033837  6.163356   \n",
       "F459  6.399689  8.064149  5.999265  5.033837  7.879397  5.033837  5.999265   \n",
       "F461  6.127577  9.093489  5.969284  7.520792  7.298669  6.622175  6.851348   \n",
       "\n",
       "         zzef1  gutted.weight.kg  \n",
       "F001  8.272468             3.240  \n",
       "F002  8.465317             4.180  \n",
       "F003  8.243687             5.890  \n",
       "F004  8.453580             4.890  \n",
       "F005  7.930806             3.980  \n",
       "...        ...               ...  \n",
       "F450  8.322352             1.645  \n",
       "F456  8.727422             1.980  \n",
       "F458  7.996756             1.120  \n",
       "F459  6.669984             0.960  \n",
       "F461  7.711522             3.890  \n",
       "\n",
       "[302 rows x 19410 columns]"
      ]
     },
     "execution_count": 71,
     "metadata": {},
     "output_type": "execute_result"
    }
   ],
   "source": [
    "transcriptome_XY = pd.read_csv(\"../../data/transcriptome_XY.csv\", index_col=0)\n",
    "transcriptome_XY"
   ]
  },
  {
   "cell_type": "code",
   "execution_count": 72,
   "metadata": {},
   "outputs": [
    {
     "data": {
      "text/html": [
       "<div>\n",
       "<style scoped>\n",
       "    .dataframe tbody tr th:only-of-type {\n",
       "        vertical-align: middle;\n",
       "    }\n",
       "\n",
       "    .dataframe tbody tr th {\n",
       "        vertical-align: top;\n",
       "    }\n",
       "\n",
       "    .dataframe thead th {\n",
       "        text-align: right;\n",
       "    }\n",
       "</style>\n",
       "<table border=\"1\" class=\"dataframe\">\n",
       "  <thead>\n",
       "    <tr style=\"text-align: right;\">\n",
       "      <th></th>\n",
       "      <th>hba</th>\n",
       "      <th>LOC106607380</th>\n",
       "      <th>LOC106601072</th>\n",
       "      <th>LOC106601071</th>\n",
       "      <th>LOC123724067</th>\n",
       "    </tr>\n",
       "  </thead>\n",
       "  <tbody>\n",
       "    <tr>\n",
       "      <th>F001</th>\n",
       "      <td>7.841489</td>\n",
       "      <td>6.684127</td>\n",
       "      <td>9.049141</td>\n",
       "      <td>6.934034</td>\n",
       "      <td>7.471161</td>\n",
       "    </tr>\n",
       "    <tr>\n",
       "      <th>F002</th>\n",
       "      <td>8.049102</td>\n",
       "      <td>7.776955</td>\n",
       "      <td>8.876601</td>\n",
       "      <td>7.313821</td>\n",
       "      <td>7.894540</td>\n",
       "    </tr>\n",
       "    <tr>\n",
       "      <th>F003</th>\n",
       "      <td>9.321372</td>\n",
       "      <td>9.142760</td>\n",
       "      <td>10.515895</td>\n",
       "      <td>8.078872</td>\n",
       "      <td>9.749636</td>\n",
       "    </tr>\n",
       "    <tr>\n",
       "      <th>F004</th>\n",
       "      <td>9.442323</td>\n",
       "      <td>7.953808</td>\n",
       "      <td>10.629716</td>\n",
       "      <td>9.164211</td>\n",
       "      <td>7.985053</td>\n",
       "    </tr>\n",
       "    <tr>\n",
       "      <th>F005</th>\n",
       "      <td>9.187983</td>\n",
       "      <td>8.223300</td>\n",
       "      <td>10.425331</td>\n",
       "      <td>8.316614</td>\n",
       "      <td>7.714572</td>\n",
       "    </tr>\n",
       "    <tr>\n",
       "      <th>...</th>\n",
       "      <td>...</td>\n",
       "      <td>...</td>\n",
       "      <td>...</td>\n",
       "      <td>...</td>\n",
       "      <td>...</td>\n",
       "    </tr>\n",
       "    <tr>\n",
       "      <th>F450</th>\n",
       "      <td>9.183097</td>\n",
       "      <td>8.909547</td>\n",
       "      <td>10.836300</td>\n",
       "      <td>8.788188</td>\n",
       "      <td>9.540840</td>\n",
       "    </tr>\n",
       "    <tr>\n",
       "      <th>F456</th>\n",
       "      <td>10.432081</td>\n",
       "      <td>9.924495</td>\n",
       "      <td>11.906412</td>\n",
       "      <td>9.321568</td>\n",
       "      <td>9.459813</td>\n",
       "    </tr>\n",
       "    <tr>\n",
       "      <th>F458</th>\n",
       "      <td>8.419208</td>\n",
       "      <td>8.547975</td>\n",
       "      <td>9.500379</td>\n",
       "      <td>6.595032</td>\n",
       "      <td>6.923386</td>\n",
       "    </tr>\n",
       "    <tr>\n",
       "      <th>F459</th>\n",
       "      <td>6.873686</td>\n",
       "      <td>5.033837</td>\n",
       "      <td>6.992821</td>\n",
       "      <td>7.403194</td>\n",
       "      <td>5.033837</td>\n",
       "    </tr>\n",
       "    <tr>\n",
       "      <th>F461</th>\n",
       "      <td>9.231969</td>\n",
       "      <td>8.839617</td>\n",
       "      <td>10.646540</td>\n",
       "      <td>8.301712</td>\n",
       "      <td>9.208010</td>\n",
       "    </tr>\n",
       "  </tbody>\n",
       "</table>\n",
       "<p>302 rows × 5 columns</p>\n",
       "</div>"
      ],
      "text/plain": [
       "            hba  LOC106607380  LOC106601072  LOC106601071  LOC123724067\n",
       "F001   7.841489      6.684127      9.049141      6.934034      7.471161\n",
       "F002   8.049102      7.776955      8.876601      7.313821      7.894540\n",
       "F003   9.321372      9.142760     10.515895      8.078872      9.749636\n",
       "F004   9.442323      7.953808     10.629716      9.164211      7.985053\n",
       "F005   9.187983      8.223300     10.425331      8.316614      7.714572\n",
       "...         ...           ...           ...           ...           ...\n",
       "F450   9.183097      8.909547     10.836300      8.788188      9.540840\n",
       "F456  10.432081      9.924495     11.906412      9.321568      9.459813\n",
       "F458   8.419208      8.547975      9.500379      6.595032      6.923386\n",
       "F459   6.873686      5.033837      6.992821      7.403194      5.033837\n",
       "F461   9.231969      8.839617     10.646540      8.301712      9.208010\n",
       "\n",
       "[302 rows x 5 columns]"
      ]
     },
     "execution_count": 72,
     "metadata": {},
     "output_type": "execute_result"
    }
   ],
   "source": [
    "hemoglobin_genes = [\"hba\", \"LOC106607380\", \"LOC106601072\", \"LOC106601071\", \"LOC123724067\"]\n",
    "hemoglobin_genes_df = transcriptome_XY[hemoglobin_genes]\n",
    "hemoglobin_genes_df"
   ]
  },
  {
   "cell_type": "code",
   "execution_count": 73,
   "metadata": {},
   "outputs": [
    {
     "data": {
      "text/html": [
       "<div>\n",
       "<style scoped>\n",
       "    .dataframe tbody tr th:only-of-type {\n",
       "        vertical-align: middle;\n",
       "    }\n",
       "\n",
       "    .dataframe tbody tr th {\n",
       "        vertical-align: top;\n",
       "    }\n",
       "\n",
       "    .dataframe thead th {\n",
       "        text-align: right;\n",
       "    }\n",
       "</style>\n",
       "<table border=\"1\" class=\"dataframe\">\n",
       "  <thead>\n",
       "    <tr style=\"text-align: right;\">\n",
       "      <th></th>\n",
       "      <th>hba</th>\n",
       "      <th>LOC106607380</th>\n",
       "      <th>LOC106601072</th>\n",
       "      <th>LOC106601071</th>\n",
       "      <th>LOC123724067</th>\n",
       "    </tr>\n",
       "  </thead>\n",
       "  <tbody>\n",
       "    <tr>\n",
       "      <th>hba</th>\n",
       "      <td>1.000000</td>\n",
       "      <td>0.900110</td>\n",
       "      <td>0.946565</td>\n",
       "      <td>0.907537</td>\n",
       "      <td>0.764438</td>\n",
       "    </tr>\n",
       "    <tr>\n",
       "      <th>LOC106607380</th>\n",
       "      <td>0.900110</td>\n",
       "      <td>1.000000</td>\n",
       "      <td>0.901939</td>\n",
       "      <td>0.787359</td>\n",
       "      <td>0.839774</td>\n",
       "    </tr>\n",
       "    <tr>\n",
       "      <th>LOC106601072</th>\n",
       "      <td>0.946565</td>\n",
       "      <td>0.901939</td>\n",
       "      <td>1.000000</td>\n",
       "      <td>0.914895</td>\n",
       "      <td>0.765783</td>\n",
       "    </tr>\n",
       "    <tr>\n",
       "      <th>LOC106601071</th>\n",
       "      <td>0.907537</td>\n",
       "      <td>0.787359</td>\n",
       "      <td>0.914895</td>\n",
       "      <td>1.000000</td>\n",
       "      <td>0.600831</td>\n",
       "    </tr>\n",
       "    <tr>\n",
       "      <th>LOC123724067</th>\n",
       "      <td>0.764438</td>\n",
       "      <td>0.839774</td>\n",
       "      <td>0.765783</td>\n",
       "      <td>0.600831</td>\n",
       "      <td>1.000000</td>\n",
       "    </tr>\n",
       "  </tbody>\n",
       "</table>\n",
       "</div>"
      ],
      "text/plain": [
       "                   hba  LOC106607380  LOC106601072  LOC106601071  LOC123724067\n",
       "hba           1.000000      0.900110      0.946565      0.907537      0.764438\n",
       "LOC106607380  0.900110      1.000000      0.901939      0.787359      0.839774\n",
       "LOC106601072  0.946565      0.901939      1.000000      0.914895      0.765783\n",
       "LOC106601071  0.907537      0.787359      0.914895      1.000000      0.600831\n",
       "LOC123724067  0.764438      0.839774      0.765783      0.600831      1.000000"
      ]
     },
     "execution_count": 73,
     "metadata": {},
     "output_type": "execute_result"
    }
   ],
   "source": [
    "hemoglobin_genes_df.corr()"
   ]
  },
  {
   "cell_type": "code",
   "execution_count": 81,
   "metadata": {},
   "outputs": [
    {
     "data": {
      "text/plain": [
       "<matplotlib.colorbar.Colorbar at 0x7106e0627ee0>"
      ]
     },
     "execution_count": 81,
     "metadata": {},
     "output_type": "execute_result"
    },
    {
     "data": {
      "image/png": "[encoded data removed]",
      "text/plain": [
       "<Figure size 640x480 with 2 Axes>"
      ]
     },
     "metadata": {},
     "output_type": "display_data"
    }
   ],
   "source": [
    "plt.imshow(hemoglobin_genes_df.corr())\n",
    "plt.xticks(np.arange(len(hemoglobin_genes)), hemoglobin_genes, rotation=45)\n",
    "plt.yticks(np.arange(len(hemoglobin_genes)), hemoglobin_genes)\n",
    "plt.colorbar()"
   ]
  },
  {
   "cell_type": "code",
   "execution_count": 75,
   "metadata": {},
   "outputs": [
    {
     "name": "stdout",
     "output_type": "stream",
     "text": [
      "hba LOC106607380 0.0\n",
      "hba LOC106601072 0.0\n",
      "hba LOC106601071 0.0\n",
      "hba LOC123724067 0.0\n",
      "LOC106607380 hba 0.0\n",
      "LOC106607380 LOC106601072 0.0\n",
      "LOC106607380 LOC106601071 0.0\n",
      "LOC106607380 LOC123724067 0.0\n",
      "LOC106601072 hba 0.0\n",
      "LOC106601072 LOC106607380 0.0\n",
      "LOC106601072 LOC106601071 0.0\n",
      "LOC106601072 LOC123724067 0.0\n",
      "LOC106601071 hba 0.0\n",
      "LOC106601071 LOC106607380 0.0\n",
      "LOC106601071 LOC106601072 0.0\n",
      "LOC106601071 LOC123724067 0.0\n",
      "LOC123724067 hba 0.0\n",
      "LOC123724067 LOC106607380 0.0\n",
      "LOC123724067 LOC106601072 0.0\n",
      "LOC123724067 LOC106601071 0.0\n"
     ]
    }
   ],
   "source": [
    "for hgene_a in hemoglobin_genes:\n",
    "    for hgene_b in hemoglobin_genes:\n",
    "        if hgene_a != hgene_b:\n",
    "            rho, p_value = spearmanr(x, y)\n",
    "            print(hgene_a, hgene_b, p_value)"
   ]
  },
  {
   "cell_type": "code",
   "execution_count": null,
   "metadata": {},
   "outputs": [],
   "source": []
  }
 ],
 "metadata": {
  "kernelspec": {
   "display_name": "tech",
   "language": "python",
   "name": "python3"
  },
  "language_info": {
   "codemirror_mode": {
    "name": "ipython",
    "version": 3
   },
   "file_extension": ".py",
   "mimetype": "text/x-python",
   "name": "python",
   "nbconvert_exporter": "python",
   "pygments_lexer": "ipython3",
   "version": "3.10.10"
  }
 },
 "nbformat": 4,
 "nbformat_minor": 2
}
