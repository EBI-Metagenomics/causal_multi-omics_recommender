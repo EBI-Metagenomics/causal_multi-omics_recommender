{
 "cells": [
  {
   "cell_type": "code",
   "execution_count": 153,
   "metadata": {},
   "outputs": [],
   "source": [
    "import pandas as pd\n",
    "import numpy as np\n",
    "import matplotlib.pyplot as plt"
   ]
  },
  {
   "cell_type": "code",
   "execution_count": 170,
   "metadata": {},
   "outputs": [],
   "source": [
    "num = 1\n",
    "LGR1 = pd.read_csv(f\"../../data/magnets_20k_features_300_samples_v18may/results_ave_mae_{num}.csv\", index_col=0)\n",
    "LGR1.sort_values(by=\"ave_MAE\", inplace=True)\n",
    "labels1 = pd.read_csv(f\"../../data/magnets_20k_features_300_samples_v18may/magnet_positions_run_{num}.csv\", index_col=0)\n",
    "GFGWA_1 = pd.read_csv(f\"../../data/magnets_20k_features_300_samples_v18may/GFGWA_{num}.csv\", index_col=0)\n",
    "LGR1[\"percentile_LGR\"] = LGR1[\"ave_MAE\"].rank(pct=True, ascending=False)\n",
    "GFGWA_1[\"percentile_GFGWA\"] = GFGWA_1[\"p-value\"].rank(pct=True, ascending=False)"
   ]
  },
  {
   "cell_type": "code",
   "execution_count": 171,
   "metadata": {},
   "outputs": [],
   "source": [
    "num = 2\n",
    "LGR2 = pd.read_csv(f\"../../data/magnets_20k_features_300_samples_v18may/results_ave_mae_{num}.csv\", index_col=0)\n",
    "LGR2.sort_values(by=\"ave_MAE\", inplace=True)\n",
    "labels2 = pd.read_csv(f\"../../data/magnets_20k_features_300_samples_v18may/magnet_positions_run_{num}.csv\", index_col=0)\n",
    "GFGWA_2 = pd.read_csv(f\"../../data/magnets_20k_features_300_samples_v18may/GFGWA_{num}.csv\", index_col=0)\n",
    "LGR2[\"percentile_LGR\"] = LGR2[\"ave_MAE\"].rank(pct=True, ascending=False)\n",
    "GFGWA_2[\"percentile_GFGWA\"] = GFGWA_2[\"p-value\"].rank(pct=True, ascending=False)"
   ]
  },
  {
   "cell_type": "code",
   "execution_count": 172,
   "metadata": {},
   "outputs": [],
   "source": [
    "num = 3\n",
    "LGR3 = pd.read_csv(f\"../../data/magnets_20k_features_300_samples_v18may/results_ave_mae_{num}.csv\", index_col=0)\n",
    "LGR3.sort_values(by=\"ave_MAE\", inplace=True)\n",
    "labels3 = pd.read_csv(f\"../../data/magnets_20k_features_300_samples_v18may/magnet_positions_run_{num}.csv\", index_col=0)\n",
    "GFGWA_3 = pd.read_csv(f\"../../data/magnets_20k_features_300_samples_v18may/GFGWA_{num}.csv\", index_col=0)\n",
    "LGR3[\"percentile_LGR\"] = LGR3[\"ave_MAE\"].rank(pct=True, ascending=False)\n",
    "GFGWA_3[\"percentile_GFGWA\"] = GFGWA_3[\"p-value\"].rank(pct=True, ascending=False)"
   ]
  },
  {
   "cell_type": "code",
   "execution_count": 173,
   "metadata": {},
   "outputs": [],
   "source": [
    "num = 4\n",
    "LGR4 = pd.read_csv(f\"../../data/magnets_20k_features_300_samples_v18may/results_ave_mae_{num}.csv\", index_col=0)\n",
    "LGR4.sort_values(by=\"ave_MAE\", inplace=True)\n",
    "labels4 = pd.read_csv(f\"../../data/magnets_20k_features_300_samples_v18may/magnet_positions_run_{num}.csv\", index_col=0)\n",
    "GFGWA_4 = pd.read_csv(f\"../../data/magnets_20k_features_300_samples_v18may/GFGWA_{num}.csv\", index_col=0)\n",
    "LGR4[\"percentile_LGR\"] = LGR4[\"ave_MAE\"].rank(pct=True, ascending=False)\n",
    "GFGWA_4[\"percentile_GFGWA\"] = GFGWA_4[\"p-value\"].rank(pct=True, ascending=False)"
   ]
  },
  {
   "cell_type": "code",
   "execution_count": 174,
   "metadata": {},
   "outputs": [],
   "source": [
    "num = 5\n",
    "LGR5 = pd.read_csv(f\"../../data/magnets_20k_features_300_samples_v18may/results_ave_mae_{num}.csv\", index_col=0)\n",
    "LGR5.sort_values(by=\"ave_MAE\", inplace=True)\n",
    "labels5 = pd.read_csv(f\"../../data/magnets_20k_features_300_samples_v18may/magnet_positions_run_{num}.csv\", index_col=0)\n",
    "GFGWA_5 = pd.read_csv(f\"../../data/magnets_20k_features_300_samples_v18may/GFGWA_{num}.csv\", index_col=0)\n",
    "LGR5[\"percentile_LGR\"] = LGR5[\"ave_MAE\"].rank(pct=True, ascending=False)\n",
    "GFGWA_5[\"percentile_GFGWA\"] = GFGWA_5[\"p-value\"].rank(pct=True, ascending=False)"
   ]
  },
  {
   "cell_type": "code",
   "execution_count": 175,
   "metadata": {},
   "outputs": [],
   "source": [
    "num = 6\n",
    "LGR6 = pd.read_csv(f\"../../data/magnets_20k_features_300_samples_v18may/results_ave_mae_{num}.csv\", index_col=0)\n",
    "LGR6.sort_values(by=\"ave_MAE\", inplace=True)\n",
    "labels6 = pd.read_csv(f\"../../data/magnets_20k_features_300_samples_v18may/magnet_positions_run_{num}.csv\", index_col=0)\n",
    "GFGWA_6 = pd.read_csv(f\"../../data/magnets_20k_features_300_samples_v18may/GFGWA_{num}.csv\", index_col=0)\n",
    "LGR6[\"percentile_LGR\"] = LGR6[\"ave_MAE\"].rank(pct=True, ascending=False)\n",
    "GFGWA_6[\"percentile_GFGWA\"] = GFGWA_6[\"p-value\"].rank(pct=True, ascending=False)"
   ]
  },
  {
   "cell_type": "code",
   "execution_count": 176,
   "metadata": {},
   "outputs": [],
   "source": [
    "num = 7\n",
    "LGR7 = pd.read_csv(f\"../../data/magnets_20k_features_300_samples_v18may/results_ave_mae_{num}.csv\", index_col=0)\n",
    "LGR7.sort_values(by=\"ave_MAE\", inplace=True)\n",
    "labels7 = pd.read_csv(f\"../../data/magnets_20k_features_300_samples_v18may/magnet_positions_run_{num}.csv\", index_col=0)\n",
    "GFGWA_7 = pd.read_csv(f\"../../data/magnets_20k_features_300_samples_v18may/GFGWA_{num}.csv\", index_col=0)\n",
    "LGR7[\"percentile_LGR\"] = LGR7[\"ave_MAE\"].rank(pct=True, ascending=False)\n",
    "GFGWA_7[\"percentile_GFGWA\"] = GFGWA_7[\"p-value\"].rank(pct=True, ascending=False)"
   ]
  },
  {
   "cell_type": "code",
   "execution_count": 177,
   "metadata": {},
   "outputs": [],
   "source": [
    "num = 8\n",
    "LGR8 = pd.read_csv(f\"../../data/magnets_20k_features_300_samples_v18may/results_ave_mae_{num}.csv\", index_col=0)\n",
    "LGR8.sort_values(by=\"ave_MAE\", inplace=True)\n",
    "labels8 = pd.read_csv(f\"../../data/magnets_20k_features_300_samples_v18may/magnet_positions_run_{num}.csv\", index_col=0)\n",
    "GFGWA_8 = pd.read_csv(f\"../../data/magnets_20k_features_300_samples_v18may/GFGWA_{num}.csv\", index_col=0)\n",
    "LGR8[\"percentile_LGR\"] = LGR8[\"ave_MAE\"].rank(pct=True, ascending=False)\n",
    "GFGWA_8[\"percentile_GFGWA\"] = GFGWA_8[\"p-value\"].rank(pct=True, ascending=False)"
   ]
  },
  {
   "cell_type": "code",
   "execution_count": 178,
   "metadata": {},
   "outputs": [],
   "source": [
    "num = 9\n",
    "LGR9 = pd.read_csv(f\"../../data/magnets_20k_features_300_samples_v18may/results_ave_mae_{num}.csv\", index_col=0)\n",
    "LGR9.sort_values(by=\"ave_MAE\", inplace=True)\n",
    "labels9 = pd.read_csv(f\"../../data/magnets_20k_features_300_samples_v18may/magnet_positions_run_{num}.csv\", index_col=0)\n",
    "GFGWA_9 = pd.read_csv(f\"../../data/magnets_20k_features_300_samples_v18may/GFGWA_{num}.csv\", index_col=0)\n",
    "LGR9[\"percentile_LGR\"] = LGR9[\"ave_MAE\"].rank(pct=True, ascending=False)\n",
    "GFGWA_9[\"percentile_GFGWA\"] = GFGWA_9[\"p-value\"].rank(pct=True, ascending=False)"
   ]
  },
  {
   "cell_type": "code",
   "execution_count": 179,
   "metadata": {},
   "outputs": [],
   "source": [
    "num = 10\n",
    "LGR10 = pd.read_csv(f\"../../data/magnets_20k_features_300_samples_v18may/results_ave_mae_{num}.csv\", index_col=0)\n",
    "LGR10.sort_values(by=\"ave_MAE\", inplace=True)\n",
    "labels10 = pd.read_csv(f\"../../data/magnets_20k_features_300_samples_v18may/magnet_positions_run_{num}.csv\", index_col=0)\n",
    "GFGWA_10 = pd.read_csv(f\"../../data/magnets_20k_features_300_samples_v18may/GFGWA_{num}.csv\", index_col=0)\n",
    "LGR10[\"percentile_LGR\"] = LGR10[\"ave_MAE\"].rank(pct=True, ascending=False)\n",
    "GFGWA_10[\"percentile_GFGWA\"] = GFGWA_10[\"p-value\"].rank(pct=True, ascending=False)"
   ]
  },
  {
   "cell_type": "code",
   "execution_count": 180,
   "metadata": {},
   "outputs": [
    {
     "data": {
      "text/html": [
       "<div>\n",
       "<style scoped>\n",
       "    .dataframe tbody tr th:only-of-type {\n",
       "        vertical-align: middle;\n",
       "    }\n",
       "\n",
       "    .dataframe tbody tr th {\n",
       "        vertical-align: top;\n",
       "    }\n",
       "\n",
       "    .dataframe thead th {\n",
       "        text-align: right;\n",
       "    }\n",
       "</style>\n",
       "<table border=\"1\" class=\"dataframe\">\n",
       "  <thead>\n",
       "    <tr style=\"text-align: right;\">\n",
       "      <th></th>\n",
       "      <th>Gene</th>\n",
       "      <th>ave_MAE</th>\n",
       "      <th>percentile_LGR</th>\n",
       "      <th>percentile</th>\n",
       "    </tr>\n",
       "  </thead>\n",
       "  <tbody>\n",
       "    <tr>\n",
       "      <th>78</th>\n",
       "      <td>Feature_9752</td>\n",
       "      <td>0.007990</td>\n",
       "      <td>1.000000</td>\n",
       "      <td>0.003759</td>\n",
       "    </tr>\n",
       "    <tr>\n",
       "      <th>17</th>\n",
       "      <td>Feature_16858</td>\n",
       "      <td>0.008454</td>\n",
       "      <td>0.996241</td>\n",
       "      <td>0.007519</td>\n",
       "    </tr>\n",
       "    <tr>\n",
       "      <th>31</th>\n",
       "      <td>Feature_11</td>\n",
       "      <td>0.008671</td>\n",
       "      <td>0.992481</td>\n",
       "      <td>0.011278</td>\n",
       "    </tr>\n",
       "    <tr>\n",
       "      <th>138</th>\n",
       "      <td>Feature_18131</td>\n",
       "      <td>0.008714</td>\n",
       "      <td>0.988722</td>\n",
       "      <td>0.015038</td>\n",
       "    </tr>\n",
       "    <tr>\n",
       "      <th>81</th>\n",
       "      <td>Feature_5214</td>\n",
       "      <td>0.008749</td>\n",
       "      <td>0.984962</td>\n",
       "      <td>0.018797</td>\n",
       "    </tr>\n",
       "    <tr>\n",
       "      <th>...</th>\n",
       "      <td>...</td>\n",
       "      <td>...</td>\n",
       "      <td>...</td>\n",
       "      <td>...</td>\n",
       "    </tr>\n",
       "    <tr>\n",
       "      <th>74</th>\n",
       "      <td>Feature_2058</td>\n",
       "      <td>0.008968</td>\n",
       "      <td>0.018797</td>\n",
       "      <td>0.984962</td>\n",
       "    </tr>\n",
       "    <tr>\n",
       "      <th>7</th>\n",
       "      <td>Feature_6868</td>\n",
       "      <td>0.008969</td>\n",
       "      <td>0.015038</td>\n",
       "      <td>0.988722</td>\n",
       "    </tr>\n",
       "    <tr>\n",
       "      <th>263</th>\n",
       "      <td>Feature_2309</td>\n",
       "      <td>0.008973</td>\n",
       "      <td>0.011278</td>\n",
       "      <td>0.992481</td>\n",
       "    </tr>\n",
       "    <tr>\n",
       "      <th>206</th>\n",
       "      <td>Feature_17456</td>\n",
       "      <td>0.008980</td>\n",
       "      <td>0.007519</td>\n",
       "      <td>0.996241</td>\n",
       "    </tr>\n",
       "    <tr>\n",
       "      <th>142</th>\n",
       "      <td>Feature_7967</td>\n",
       "      <td>0.009010</td>\n",
       "      <td>0.003759</td>\n",
       "      <td>1.000000</td>\n",
       "    </tr>\n",
       "  </tbody>\n",
       "</table>\n",
       "<p>266 rows × 4 columns</p>\n",
       "</div>"
      ],
      "text/plain": [
       "              Gene   ave_MAE  percentile_LGR  percentile\n",
       "78    Feature_9752  0.007990        1.000000    0.003759\n",
       "17   Feature_16858  0.008454        0.996241    0.007519\n",
       "31      Feature_11  0.008671        0.992481    0.011278\n",
       "138  Feature_18131  0.008714        0.988722    0.015038\n",
       "81    Feature_5214  0.008749        0.984962    0.018797\n",
       "..             ...       ...             ...         ...\n",
       "74    Feature_2058  0.008968        0.018797    0.984962\n",
       "7     Feature_6868  0.008969        0.015038    0.988722\n",
       "263   Feature_2309  0.008973        0.011278    0.992481\n",
       "206  Feature_17456  0.008980        0.007519    0.996241\n",
       "142   Feature_7967  0.009010        0.003759    1.000000\n",
       "\n",
       "[266 rows x 4 columns]"
      ]
     },
     "execution_count": 180,
     "metadata": {},
     "output_type": "execute_result"
    }
   ],
   "source": [
    "LGR10[\"percentile\"] = LGR10[\"ave_MAE\"].rank(pct=True)\n",
    "LGR10"
   ]
  },
  {
   "cell_type": "code",
   "execution_count": 181,
   "metadata": {},
   "outputs": [
    {
     "data": {
      "text/plain": [
       "9752     1.00000\n",
       "11       0.99995\n",
       "8303     0.99990\n",
       "10880    0.99985\n",
       "3870     0.99980\n",
       "          ...   \n",
       "4741     0.00050\n",
       "5014     0.00050\n",
       "11458    0.00015\n",
       "18827    0.00010\n",
       "18484    0.00005\n",
       "Name: p-value, Length: 20000, dtype: float64"
      ]
     },
     "execution_count": 181,
     "metadata": {},
     "output_type": "execute_result"
    }
   ],
   "source": [
    "GFGWA_10[\"p-value\"].rank(pct=True, ascending=False)"
   ]
  },
  {
   "cell_type": "code",
   "execution_count": 182,
   "metadata": {},
   "outputs": [],
   "source": [
    "labels_list = [labels1, labels2, labels3, labels4, labels5, labels6, labels7, labels8, labels9, labels10]\n",
    "LGR_list = [LGR1, LGR2, LGR3, LGR4, LGR5, LGR6, LGR7, LGR8, LGR9, LGR10]\n",
    "GFGWA_list = [GFGWA_1, GFGWA_2, GFGWA_3, GFGWA_4, GFGWA_5, GFGWA_6, GFGWA_7, GFGWA_8, GFGWA_9, GFGWA_10]"
   ]
  },
  {
   "cell_type": "code",
   "execution_count": 183,
   "metadata": {},
   "outputs": [
    {
     "data": {
      "text/html": [
       "<div>\n",
       "<style scoped>\n",
       "    .dataframe tbody tr th:only-of-type {\n",
       "        vertical-align: middle;\n",
       "    }\n",
       "\n",
       "    .dataframe tbody tr th {\n",
       "        vertical-align: top;\n",
       "    }\n",
       "\n",
       "    .dataframe thead th {\n",
       "        text-align: right;\n",
       "    }\n",
       "</style>\n",
       "<table border=\"1\" class=\"dataframe\">\n",
       "  <thead>\n",
       "    <tr style=\"text-align: right;\">\n",
       "      <th></th>\n",
       "      <th>Feature</th>\n",
       "      <th>p-value</th>\n",
       "      <th>percentile_GFGWA</th>\n",
       "    </tr>\n",
       "  </thead>\n",
       "  <tbody>\n",
       "    <tr>\n",
       "      <th>13449</th>\n",
       "      <td>Feature_13449</td>\n",
       "      <td>0.000018</td>\n",
       "      <td>1.000000</td>\n",
       "    </tr>\n",
       "    <tr>\n",
       "      <th>13300</th>\n",
       "      <td>Feature_13300</td>\n",
       "      <td>0.000099</td>\n",
       "      <td>0.999950</td>\n",
       "    </tr>\n",
       "    <tr>\n",
       "      <th>12889</th>\n",
       "      <td>Feature_12889</td>\n",
       "      <td>0.000107</td>\n",
       "      <td>0.999900</td>\n",
       "    </tr>\n",
       "    <tr>\n",
       "      <th>2098</th>\n",
       "      <td>Feature_2098</td>\n",
       "      <td>0.000134</td>\n",
       "      <td>0.999850</td>\n",
       "    </tr>\n",
       "    <tr>\n",
       "      <th>2359</th>\n",
       "      <td>Feature_2359</td>\n",
       "      <td>0.000152</td>\n",
       "      <td>0.999800</td>\n",
       "    </tr>\n",
       "    <tr>\n",
       "      <th>...</th>\n",
       "      <td>...</td>\n",
       "      <td>...</td>\n",
       "      <td>...</td>\n",
       "    </tr>\n",
       "    <tr>\n",
       "      <th>3026</th>\n",
       "      <td>Feature_3026</td>\n",
       "      <td>0.500277</td>\n",
       "      <td>0.000250</td>\n",
       "    </tr>\n",
       "    <tr>\n",
       "      <th>4412</th>\n",
       "      <td>Feature_4412</td>\n",
       "      <td>0.500278</td>\n",
       "      <td>0.000200</td>\n",
       "    </tr>\n",
       "    <tr>\n",
       "      <th>13455</th>\n",
       "      <td>Feature_13455</td>\n",
       "      <td>0.500279</td>\n",
       "      <td>0.000125</td>\n",
       "    </tr>\n",
       "    <tr>\n",
       "      <th>1337</th>\n",
       "      <td>Feature_1337</td>\n",
       "      <td>0.500279</td>\n",
       "      <td>0.000125</td>\n",
       "    </tr>\n",
       "    <tr>\n",
       "      <th>6143</th>\n",
       "      <td>Feature_6143</td>\n",
       "      <td>0.500283</td>\n",
       "      <td>0.000050</td>\n",
       "    </tr>\n",
       "  </tbody>\n",
       "</table>\n",
       "<p>20000 rows × 3 columns</p>\n",
       "</div>"
      ],
      "text/plain": [
       "             Feature   p-value  percentile_GFGWA\n",
       "13449  Feature_13449  0.000018          1.000000\n",
       "13300  Feature_13300  0.000099          0.999950\n",
       "12889  Feature_12889  0.000107          0.999900\n",
       "2098    Feature_2098  0.000134          0.999850\n",
       "2359    Feature_2359  0.000152          0.999800\n",
       "...              ...       ...               ...\n",
       "3026    Feature_3026  0.500277          0.000250\n",
       "4412    Feature_4412  0.500278          0.000200\n",
       "13455  Feature_13455  0.500279          0.000125\n",
       "1337    Feature_1337  0.500279          0.000125\n",
       "6143    Feature_6143  0.500283          0.000050\n",
       "\n",
       "[20000 rows x 3 columns]"
      ]
     },
     "execution_count": 183,
     "metadata": {},
     "output_type": "execute_result"
    }
   ],
   "source": [
    "GFGWA_1"
   ]
  },
  {
   "cell_type": "code",
   "execution_count": 184,
   "metadata": {},
   "outputs": [
    {
     "data": {
      "text/plain": [
       "{10925, 13454, 16563, 17836, 19136}"
      ]
     },
     "execution_count": 184,
     "metadata": {},
     "output_type": "execute_result"
    }
   ],
   "source": [
    "labels = set(labels1[\"0\"].values)\n",
    "labels"
   ]
  },
  {
   "cell_type": "code",
   "execution_count": 185,
   "metadata": {},
   "outputs": [],
   "source": [
    "LGR_recommendations = set(LGR1[\"Gene\"].str.replace(\"Feature_\", \"\").head(5).values.astype(int))"
   ]
  },
  {
   "cell_type": "code",
   "execution_count": 186,
   "metadata": {},
   "outputs": [
    {
     "data": {
      "text/plain": [
       "array([13449, 13300, 12889,  2098,  2359,  8007, 17836,  7433,  8540,\n",
       "       14422, 19136,  5958, 10445, 11984,  7769,  9099,  9614,  9391,\n",
       "       10151, 16089])"
      ]
     },
     "execution_count": 186,
     "metadata": {},
     "output_type": "execute_result"
    }
   ],
   "source": [
    "GFGWA_recommendations = GFGWA_1[\"Feature\"].str.replace(\"Feature_\", \"\").head(20).values.astype(int)\n",
    "GFGWA_recommendations"
   ]
  },
  {
   "cell_type": "code",
   "execution_count": 187,
   "metadata": {},
   "outputs": [],
   "source": [
    "def Jaccard(set1, set2):\n",
    "    intersection = set1.intersection(set2)\n",
    "    union = set1.union(set2)\n",
    "    #print(intersection, union)\n",
    "    return len(intersection)/ len(union)"
   ]
  },
  {
   "cell_type": "code",
   "execution_count": 188,
   "metadata": {},
   "outputs": [
    {
     "data": {
      "text/plain": [
       "0.08695652173913043"
      ]
     },
     "execution_count": 188,
     "metadata": {},
     "output_type": "execute_result"
    }
   ],
   "source": [
    "Jaccard(labels, GFGWA_recommendations)"
   ]
  },
  {
   "cell_type": "code",
   "execution_count": 189,
   "metadata": {},
   "outputs": [
    {
     "name": "stdout",
     "output_type": "stream",
     "text": [
      "0.6666666666666666\n",
      "0.6666666666666666\n",
      "1.0\n",
      "1.0\n",
      "0.6666666666666666\n",
      "1.0\n",
      "1.0\n",
      "1.0\n",
      "1.0\n",
      "0.6666666666666666\n"
     ]
    }
   ],
   "source": [
    "for i in range(10):\n",
    "    labels_df = labels_list[i]\n",
    "    LGR_df = LGR_list[i]\n",
    "    GFGWA_df = GFGWA_list[i]\n",
    "\n",
    "    labels_set = set(labels_df[\"0\"].values)\n",
    "    LGR_set = set(LGR_df[\"Gene\"].str.replace(\"Feature_\", \"\").head(5).values.astype(int))\n",
    "    jaccard_LGR = Jaccard(labels_set, LGR_set)\n",
    "    print(jaccard_LGR)\n",
    "    "
   ]
  },
  {
   "cell_type": "code",
   "execution_count": 230,
   "metadata": {},
   "outputs": [],
   "source": [
    "agg_df = pd.DataFrame()\n",
    "lgr_hits=[]\n",
    "gfgwa_hits=[]\n",
    "cmor_hits=[]\n",
    "for i in range(10):\n",
    "    labels_df = labels_list[i]\n",
    "    LGR_df = LGR_list[i]\n",
    "    GFGWA_df = GFGWA_list[i]\n",
    "    merged_df = pd.merge(left=LGR_df, right=GFGWA_df, left_on=\"Gene\", right_on='Feature')\n",
    "    merged_df[\"mean_percentile\"] = (merged_df[\"percentile_LGR\"]+ merged_df[\"percentile_GFGWA\"])/2\n",
    "    merged_df[\"Feature_idx\"] = merged_df[\"Feature\"].str.replace(\"Feature_\", \"\").astype(int)\n",
    "    merged_df[\"label\"] = merged_df[\"Feature_idx\"].isin(set(labels_df[\"0\"].values))\n",
    "    merged_df.sort_values(by=\"percentile_LGR\", ascending=False, inplace=True)\n",
    "    lgr_hits.append(np.sum((merged_df[\"label\"].head(5)==True).astype(int)))\n",
    "    merged_df.sort_values(by=\"percentile_GFGWA\", ascending=False, inplace=True)\n",
    "    gfgwa_hits.append(np.sum((merged_df[\"label\"].head(5)==True).astype(int)))\n",
    "    merged_df.sort_values(by=\"mean_percentile\", ascending=False, inplace=True)\n",
    "    cmor_hits.append(np.sum((merged_df[\"label\"].head(5)==True).astype(int)))\n",
    "    #break\n",
    "    # print(merged_df.head())\n",
    "    # plt.figure(figsize=(10, 6))\n",
    "    # plt.boxplot([merged_df['percentile_LGR'].head(5), merged_df['percentile_GFGWA'].head(5), merged_df['mean_percentile'].head(5)], \n",
    "    #             labels=['percentile_LGR', 'percentile_GFGWA', 'mean_percentile'])\n",
    "    # plot_list = [\"percentile_LGR\", \"percentile_GFGWA\", \"mean_percentile\"]\n",
    "    # i = 1\n",
    "    # for category in ['percentile_LGR', 'percentile_GFGWA', 'mean_percentile']:\n",
    "    #     y = merged_df[category].head(5)\n",
    "    #     x = np.random.normal(i, 0.04, size=len(y))  # Add some random noise to x-axis for better visibility\n",
    "    #     plt.scatter(x, y, alpha=0.5, color='black')\n",
    "    #     i+=1\n",
    "    #break"
   ]
  },
  {
   "cell_type": "code",
   "execution_count": 231,
   "metadata": {},
   "outputs": [
    {
     "data": {
      "text/plain": [
       "[4, 4, 5, 5, 4, 5, 5, 5, 5, 4]"
      ]
     },
     "execution_count": 231,
     "metadata": {},
     "output_type": "execute_result"
    }
   ],
   "source": [
    "lgr_hits"
   ]
  },
  {
   "cell_type": "code",
   "execution_count": 232,
   "metadata": {},
   "outputs": [
    {
     "data": {
      "text/plain": [
       "[4, 3, 2, 2, 2, 1, 2, 4, 3, 5]"
      ]
     },
     "execution_count": 232,
     "metadata": {},
     "output_type": "execute_result"
    }
   ],
   "source": [
    "gfgwa_hits"
   ]
  },
  {
   "cell_type": "code",
   "execution_count": 233,
   "metadata": {},
   "outputs": [
    {
     "data": {
      "text/plain": [
       "[5, 5, 5, 4, 4, 4, 4, 5, 5, 5]"
      ]
     },
     "execution_count": 233,
     "metadata": {},
     "output_type": "execute_result"
    }
   ],
   "source": [
    "cmor_hits"
   ]
  },
  {
   "cell_type": "code",
   "execution_count": 235,
   "metadata": {},
   "outputs": [
    {
     "name": "stdout",
     "output_type": "stream",
     "text": [
      "46 28 46\n"
     ]
    }
   ],
   "source": [
    "print(np.sum(lgr_hits), np.sum(gfgwa_hits), np.sum(cmor_hits))"
   ]
  },
  {
   "cell_type": "code",
   "execution_count": 239,
   "metadata": {},
   "outputs": [
    {
     "data": {
      "text/plain": [
       "<matplotlib.collections.PathCollection at 0x7664ab48e2d0>"
      ]
     },
     "execution_count": 239,
     "metadata": {},
     "output_type": "execute_result"
    },
    {
     "data": {
      "image/png": "[encoded data removed]",
      "text/plain": [
       "<Figure size 640x480 with 1 Axes>"
      ]
     },
     "metadata": {},
     "output_type": "display_data"
    }
   ],
   "source": [
    "y= lgr_hits\n",
    "plt.scatter(y=y, x = np.random.normal(1, 0.04, size=len(y)))\n",
    "y= gfgwa_hits\n",
    "plt.scatter(y=y, x = np.random.normal(2, 0.04, size=len(y)))\n",
    "y= lgr_hits\n",
    "plt.scatter(y=y, x = np.random.normal(3, 0.04, size=len(y)))"
   ]
  },
  {
   "cell_type": "code",
   "execution_count": 227,
   "metadata": {},
   "outputs": [
    {
     "data": {
      "text/html": [
       "<div>\n",
       "<style scoped>\n",
       "    .dataframe tbody tr th:only-of-type {\n",
       "        vertical-align: middle;\n",
       "    }\n",
       "\n",
       "    .dataframe tbody tr th {\n",
       "        vertical-align: top;\n",
       "    }\n",
       "\n",
       "    .dataframe thead th {\n",
       "        text-align: right;\n",
       "    }\n",
       "</style>\n",
       "<table border=\"1\" class=\"dataframe\">\n",
       "  <thead>\n",
       "    <tr style=\"text-align: right;\">\n",
       "      <th></th>\n",
       "      <th>Feature</th>\n",
       "      <th>p-value</th>\n",
       "      <th>percentile_GFGWA</th>\n",
       "    </tr>\n",
       "  </thead>\n",
       "  <tbody>\n",
       "    <tr>\n",
       "      <th>9752</th>\n",
       "      <td>Feature_9752</td>\n",
       "      <td>7.873652e-07</td>\n",
       "      <td>1.00000</td>\n",
       "    </tr>\n",
       "    <tr>\n",
       "      <th>11</th>\n",
       "      <td>Feature_11</td>\n",
       "      <td>8.044430e-05</td>\n",
       "      <td>0.99995</td>\n",
       "    </tr>\n",
       "    <tr>\n",
       "      <th>8303</th>\n",
       "      <td>Feature_8303</td>\n",
       "      <td>1.319439e-04</td>\n",
       "      <td>0.99990</td>\n",
       "    </tr>\n",
       "    <tr>\n",
       "      <th>10880</th>\n",
       "      <td>Feature_10880</td>\n",
       "      <td>1.603107e-04</td>\n",
       "      <td>0.99985</td>\n",
       "    </tr>\n",
       "    <tr>\n",
       "      <th>3870</th>\n",
       "      <td>Feature_3870</td>\n",
       "      <td>1.715108e-04</td>\n",
       "      <td>0.99980</td>\n",
       "    </tr>\n",
       "    <tr>\n",
       "      <th>...</th>\n",
       "      <td>...</td>\n",
       "      <td>...</td>\n",
       "      <td>...</td>\n",
       "    </tr>\n",
       "    <tr>\n",
       "      <th>4741</th>\n",
       "      <td>Feature_4741</td>\n",
       "      <td>1.000000e+00</td>\n",
       "      <td>0.00050</td>\n",
       "    </tr>\n",
       "    <tr>\n",
       "      <th>5014</th>\n",
       "      <td>Feature_5014</td>\n",
       "      <td>1.000000e+00</td>\n",
       "      <td>0.00050</td>\n",
       "    </tr>\n",
       "    <tr>\n",
       "      <th>11458</th>\n",
       "      <td>Feature_11458</td>\n",
       "      <td>1.000544e+00</td>\n",
       "      <td>0.00015</td>\n",
       "    </tr>\n",
       "    <tr>\n",
       "      <th>18827</th>\n",
       "      <td>Feature_18827</td>\n",
       "      <td>1.000549e+00</td>\n",
       "      <td>0.00010</td>\n",
       "    </tr>\n",
       "    <tr>\n",
       "      <th>18484</th>\n",
       "      <td>Feature_18484</td>\n",
       "      <td>1.000561e+00</td>\n",
       "      <td>0.00005</td>\n",
       "    </tr>\n",
       "  </tbody>\n",
       "</table>\n",
       "<p>20000 rows × 3 columns</p>\n",
       "</div>"
      ],
      "text/plain": [
       "             Feature       p-value  percentile_GFGWA\n",
       "9752    Feature_9752  7.873652e-07           1.00000\n",
       "11        Feature_11  8.044430e-05           0.99995\n",
       "8303    Feature_8303  1.319439e-04           0.99990\n",
       "10880  Feature_10880  1.603107e-04           0.99985\n",
       "3870    Feature_3870  1.715108e-04           0.99980\n",
       "...              ...           ...               ...\n",
       "4741    Feature_4741  1.000000e+00           0.00050\n",
       "5014    Feature_5014  1.000000e+00           0.00050\n",
       "11458  Feature_11458  1.000544e+00           0.00015\n",
       "18827  Feature_18827  1.000549e+00           0.00010\n",
       "18484  Feature_18484  1.000561e+00           0.00005\n",
       "\n",
       "[20000 rows x 3 columns]"
      ]
     },
     "execution_count": 227,
     "metadata": {},
     "output_type": "execute_result"
    }
   ],
   "source": [
    "GFGWA_df"
   ]
  },
  {
   "cell_type": "code",
   "execution_count": 224,
   "metadata": {},
   "outputs": [
    {
     "data": {
      "text/plain": [
       "4"
      ]
     },
     "execution_count": 224,
     "metadata": {},
     "output_type": "execute_result"
    }
   ],
   "source": [
    "np.sum((merged_df[\"label\"].head(5)==True).astype(int))"
   ]
  },
  {
   "cell_type": "code",
   "execution_count": null,
   "metadata": {},
   "outputs": [],
   "source": []
  }
 ],
 "metadata": {
  "kernelspec": {
   "display_name": "mag",
   "language": "python",
   "name": "python3"
  },
  "language_info": {
   "codemirror_mode": {
    "name": "ipython",
    "version": 3
   },
   "file_extension": ".py",
   "mimetype": "text/x-python",
   "name": "python",
   "nbconvert_exporter": "python",
   "pygments_lexer": "ipython3",
   "version": "3.12.2"
  }
 },
 "nbformat": 4,
 "nbformat_minor": 2
}
