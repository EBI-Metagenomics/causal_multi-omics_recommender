{
 "cells": [
  {
   "cell_type": "code",
   "execution_count": 1,
   "metadata": {},
   "outputs": [],
   "source": [
    "import pandas as pd\n",
    "import numpy as np\n",
    "import matplotlib.pyplot as plt"
   ]
  },
  {
   "cell_type": "code",
   "execution_count": 2,
   "metadata": {},
   "outputs": [],
   "source": [
    "SUBFOLDER = \"magnets_20k_features_300_samples_v18may_v2\""
   ]
  },
  {
   "cell_type": "code",
   "execution_count": 3,
   "metadata": {},
   "outputs": [],
   "source": [
    "labels_list = []\n",
    "LGR_list = []\n",
    "GFGWA_list = []\n",
    "failure_list = []\n",
    "for i in range(30):\n",
    "    try:\n",
    "        num = i+1\n",
    "        LGR = pd.read_csv(f\"../../data/{SUBFOLDER}/results_ave_mae_{num}.csv\", index_col=0)\n",
    "        LGR.sort_values(by=\"ave_MAE\", inplace=True)\n",
    "        labels = pd.read_csv(f\"../../data/{SUBFOLDER}/magnet_positions_run_{num}.csv\", index_col=0)\n",
    "        GFGWA = pd.read_csv(f\"../../data/{SUBFOLDER}/GFGWA_{num}.csv\", index_col=0)\n",
    "        LGR[\"percentile_LGR\"] = LGR[\"ave_MAE\"].rank(pct=True, ascending=False)\n",
    "        GFGWA[\"percentile_GFGWA\"] = GFGWA[\"p-value\"].rank(pct=True, ascending=False)\n",
    "        labels_list.append(labels)\n",
    "        LGR_list.append(LGR)\n",
    "        GFGWA_list.append(GFGWA)\n",
    "    except:\n",
    "        print(f\"Failed at {i+1}\")\n",
    "        failure_list.append(i)"
   ]
  },
  {
   "cell_type": "code",
   "execution_count": 4,
   "metadata": {},
   "outputs": [],
   "source": [
    "def Jaccard(set1, set2):\n",
    "    intersection = set1.intersection(set2)\n",
    "    union = set1.union(set2)\n",
    "    #print(intersection, union)\n",
    "    return len(intersection)/ len(union)"
   ]
  },
  {
   "cell_type": "code",
   "execution_count": 5,
   "metadata": {},
   "outputs": [],
   "source": [
    "# for i in range(30):\n",
    "#     labels_df = labels_list[i]\n",
    "#     LGR_df = LGR_list[i]\n",
    "#     GFGWA_df = GFGWA_list[i]\n",
    "\n",
    "#     labels_set = set(labels_df[\"0\"].values)\n",
    "#     LGR_set = set(LGR_df[\"Gene\"].str.replace(\"Feature_\", \"\").head(5).values.astype(int))\n",
    "#     jaccard_LGR = Jaccard(labels_set, LGR_set)\n",
    "#     print(jaccard_LGR)\n",
    "    "
   ]
  },
  {
   "cell_type": "code",
   "execution_count": 6,
   "metadata": {},
   "outputs": [
    {
     "data": {
      "text/plain": [
       "30"
      ]
     },
     "execution_count": 6,
     "metadata": {},
     "output_type": "execute_result"
    }
   ],
   "source": [
    "len(labels_list)"
   ]
  },
  {
   "cell_type": "code",
   "execution_count": 7,
   "metadata": {},
   "outputs": [],
   "source": [
    "agg_df = pd.DataFrame()\n",
    "lgr_hits=[]\n",
    "gfgwa_hits=[]\n",
    "cmor_hits=[]\n",
    "for i in range(len(labels_list)):\n",
    "    if i not in failure_list:\n",
    "        #print(i)\n",
    "        labels_df = labels_list[i]\n",
    "        LGR_df = LGR_list[i]\n",
    "        GFGWA_df = GFGWA_list[i]\n",
    "        merged_df = pd.merge(left=LGR_df, right=GFGWA_df, left_on=\"Gene\", right_on='Feature')\n",
    "        merged_df[\"mean_percentile\"] = (merged_df[\"percentile_LGR\"]+ merged_df[\"percentile_GFGWA\"])/2\n",
    "        merged_df[\"Feature_idx\"] = merged_df[\"Feature\"].str.replace(\"Feature_\", \"\").astype(int)\n",
    "        merged_df[\"label\"] = merged_df[\"Feature_idx\"].isin(set(labels_df[\"0\"].values))\n",
    "        merged_df.sort_values(by=\"percentile_LGR\", ascending=False, inplace=True)\n",
    "        lgr_hits.append(np.sum((merged_df[\"label\"].head(5)==True).astype(int)))\n",
    "        merged_df.sort_values(by=\"percentile_GFGWA\", ascending=False, inplace=True)\n",
    "        gfgwa_hits.append(np.sum((merged_df[\"label\"].head(5)==True).astype(int)))\n",
    "        merged_df.sort_values(by=\"mean_percentile\", ascending=False, inplace=True)\n",
    "        cmor_hits.append(np.sum((merged_df[\"label\"].head(5)==True).astype(int)))\n",
    "        if np.sum((merged_df[\"label\"].head(5)==True).astype(int)) == 0:\n",
    "            print(i+1)\n",
    "            print(\"Break\")\n",
    "            break"
   ]
  },
  {
   "cell_type": "code",
   "execution_count": 8,
   "metadata": {},
   "outputs": [
    {
     "data": {
      "text/plain": [
       "[5,\n",
       " 5,\n",
       " 5,\n",
       " 4,\n",
       " 4,\n",
       " 4,\n",
       " 4,\n",
       " 5,\n",
       " 5,\n",
       " 5,\n",
       " 4,\n",
       " 4,\n",
       " 5,\n",
       " 4,\n",
       " 4,\n",
       " 4,\n",
       " 5,\n",
       " 5,\n",
       " 5,\n",
       " 5,\n",
       " 3,\n",
       " 4,\n",
       " 5,\n",
       " 5,\n",
       " 4,\n",
       " 4,\n",
       " 5,\n",
       " 4,\n",
       " 5,\n",
       " 5]"
      ]
     },
     "execution_count": 8,
     "metadata": {},
     "output_type": "execute_result"
    }
   ],
   "source": [
    "cmor_hits"
   ]
  },
  {
   "cell_type": "code",
   "execution_count": 9,
   "metadata": {},
   "outputs": [
    {
     "data": {
      "text/html": [
       "<div>\n",
       "<style scoped>\n",
       "    .dataframe tbody tr th:only-of-type {\n",
       "        vertical-align: middle;\n",
       "    }\n",
       "\n",
       "    .dataframe tbody tr th {\n",
       "        vertical-align: top;\n",
       "    }\n",
       "\n",
       "    .dataframe thead th {\n",
       "        text-align: right;\n",
       "    }\n",
       "</style>\n",
       "<table border=\"1\" class=\"dataframe\">\n",
       "  <thead>\n",
       "    <tr style=\"text-align: right;\">\n",
       "      <th></th>\n",
       "      <th>Gene</th>\n",
       "      <th>ave_MAE</th>\n",
       "      <th>percentile_LGR</th>\n",
       "      <th>Feature</th>\n",
       "      <th>p-value</th>\n",
       "      <th>percentile_GFGWA</th>\n",
       "      <th>mean_percentile</th>\n",
       "      <th>Feature_idx</th>\n",
       "      <th>label</th>\n",
       "    </tr>\n",
       "  </thead>\n",
       "  <tbody>\n",
       "    <tr>\n",
       "      <th>126</th>\n",
       "      <td>Feature_3732</td>\n",
       "      <td>0.009805</td>\n",
       "      <td>0.007874</td>\n",
       "      <td>Feature_3732</td>\n",
       "      <td>0.393298</td>\n",
       "      <td>0.611850</td>\n",
       "      <td>0.309862</td>\n",
       "      <td>3732</td>\n",
       "      <td>False</td>\n",
       "    </tr>\n",
       "    <tr>\n",
       "      <th>125</th>\n",
       "      <td>Feature_13829</td>\n",
       "      <td>0.009764</td>\n",
       "      <td>0.015748</td>\n",
       "      <td>Feature_13829</td>\n",
       "      <td>0.953653</td>\n",
       "      <td>0.047050</td>\n",
       "      <td>0.031399</td>\n",
       "      <td>13829</td>\n",
       "      <td>False</td>\n",
       "    </tr>\n",
       "    <tr>\n",
       "      <th>124</th>\n",
       "      <td>Feature_9388</td>\n",
       "      <td>0.009751</td>\n",
       "      <td>0.023622</td>\n",
       "      <td>Feature_9388</td>\n",
       "      <td>0.877923</td>\n",
       "      <td>0.123775</td>\n",
       "      <td>0.073699</td>\n",
       "      <td>9388</td>\n",
       "      <td>False</td>\n",
       "    </tr>\n",
       "    <tr>\n",
       "      <th>123</th>\n",
       "      <td>Feature_735</td>\n",
       "      <td>0.009747</td>\n",
       "      <td>0.031496</td>\n",
       "      <td>Feature_735</td>\n",
       "      <td>0.146398</td>\n",
       "      <td>0.852825</td>\n",
       "      <td>0.442161</td>\n",
       "      <td>735</td>\n",
       "      <td>False</td>\n",
       "    </tr>\n",
       "    <tr>\n",
       "      <th>122</th>\n",
       "      <td>Feature_2469</td>\n",
       "      <td>0.009744</td>\n",
       "      <td>0.039370</td>\n",
       "      <td>Feature_2469</td>\n",
       "      <td>0.712646</td>\n",
       "      <td>0.289600</td>\n",
       "      <td>0.164485</td>\n",
       "      <td>2469</td>\n",
       "      <td>False</td>\n",
       "    </tr>\n",
       "    <tr>\n",
       "      <th>...</th>\n",
       "      <td>...</td>\n",
       "      <td>...</td>\n",
       "      <td>...</td>\n",
       "      <td>...</td>\n",
       "      <td>...</td>\n",
       "      <td>...</td>\n",
       "      <td>...</td>\n",
       "      <td>...</td>\n",
       "      <td>...</td>\n",
       "    </tr>\n",
       "    <tr>\n",
       "      <th>4</th>\n",
       "      <td>Feature_12218</td>\n",
       "      <td>0.009515</td>\n",
       "      <td>0.968504</td>\n",
       "      <td>Feature_12218</td>\n",
       "      <td>0.134896</td>\n",
       "      <td>0.863925</td>\n",
       "      <td>0.916214</td>\n",
       "      <td>12218</td>\n",
       "      <td>True</td>\n",
       "    </tr>\n",
       "    <tr>\n",
       "      <th>3</th>\n",
       "      <td>Feature_212</td>\n",
       "      <td>0.009365</td>\n",
       "      <td>0.976378</td>\n",
       "      <td>Feature_212</td>\n",
       "      <td>0.080526</td>\n",
       "      <td>0.920900</td>\n",
       "      <td>0.948639</td>\n",
       "      <td>212</td>\n",
       "      <td>True</td>\n",
       "    </tr>\n",
       "    <tr>\n",
       "      <th>2</th>\n",
       "      <td>Feature_10429</td>\n",
       "      <td>0.009320</td>\n",
       "      <td>0.984252</td>\n",
       "      <td>Feature_10429</td>\n",
       "      <td>0.002791</td>\n",
       "      <td>0.997600</td>\n",
       "      <td>0.990926</td>\n",
       "      <td>10429</td>\n",
       "      <td>True</td>\n",
       "    </tr>\n",
       "    <tr>\n",
       "      <th>1</th>\n",
       "      <td>Feature_1858</td>\n",
       "      <td>0.009218</td>\n",
       "      <td>0.992126</td>\n",
       "      <td>Feature_1858</td>\n",
       "      <td>0.000181</td>\n",
       "      <td>0.999800</td>\n",
       "      <td>0.995963</td>\n",
       "      <td>1858</td>\n",
       "      <td>True</td>\n",
       "    </tr>\n",
       "    <tr>\n",
       "      <th>0</th>\n",
       "      <td>Feature_11714</td>\n",
       "      <td>0.009113</td>\n",
       "      <td>1.000000</td>\n",
       "      <td>Feature_11714</td>\n",
       "      <td>0.000934</td>\n",
       "      <td>0.999300</td>\n",
       "      <td>0.999650</td>\n",
       "      <td>11714</td>\n",
       "      <td>True</td>\n",
       "    </tr>\n",
       "  </tbody>\n",
       "</table>\n",
       "<p>127 rows × 9 columns</p>\n",
       "</div>"
      ],
      "text/plain": [
       "              Gene   ave_MAE  percentile_LGR        Feature   p-value  \\\n",
       "126   Feature_3732  0.009805        0.007874   Feature_3732  0.393298   \n",
       "125  Feature_13829  0.009764        0.015748  Feature_13829  0.953653   \n",
       "124   Feature_9388  0.009751        0.023622   Feature_9388  0.877923   \n",
       "123    Feature_735  0.009747        0.031496    Feature_735  0.146398   \n",
       "122   Feature_2469  0.009744        0.039370   Feature_2469  0.712646   \n",
       "..             ...       ...             ...            ...       ...   \n",
       "4    Feature_12218  0.009515        0.968504  Feature_12218  0.134896   \n",
       "3      Feature_212  0.009365        0.976378    Feature_212  0.080526   \n",
       "2    Feature_10429  0.009320        0.984252  Feature_10429  0.002791   \n",
       "1     Feature_1858  0.009218        0.992126   Feature_1858  0.000181   \n",
       "0    Feature_11714  0.009113        1.000000  Feature_11714  0.000934   \n",
       "\n",
       "     percentile_GFGWA  mean_percentile  Feature_idx  label  \n",
       "126          0.611850         0.309862         3732  False  \n",
       "125          0.047050         0.031399        13829  False  \n",
       "124          0.123775         0.073699         9388  False  \n",
       "123          0.852825         0.442161          735  False  \n",
       "122          0.289600         0.164485         2469  False  \n",
       "..                ...              ...          ...    ...  \n",
       "4            0.863925         0.916214        12218   True  \n",
       "3            0.920900         0.948639          212   True  \n",
       "2            0.997600         0.990926        10429   True  \n",
       "1            0.999800         0.995963         1858   True  \n",
       "0            0.999300         0.999650        11714   True  \n",
       "\n",
       "[127 rows x 9 columns]"
      ]
     },
     "execution_count": 9,
     "metadata": {},
     "output_type": "execute_result"
    }
   ],
   "source": [
    "merged_df.sort_values(by=\"percentile_LGR\")"
   ]
  },
  {
   "cell_type": "code",
   "execution_count": 10,
   "metadata": {},
   "outputs": [
    {
     "name": "stdout",
     "output_type": "stream",
     "text": [
      "133 93 135\n"
     ]
    }
   ],
   "source": [
    "print(np.sum(lgr_hits), np.sum(gfgwa_hits), np.sum(cmor_hits))"
   ]
  },
  {
   "cell_type": "code",
   "execution_count": 11,
   "metadata": {},
   "outputs": [
    {
     "name": "stdout",
     "output_type": "stream",
     "text": [
      "0.8866666666666667 0.62 0.9\n"
     ]
    }
   ],
   "source": [
    "print(np.sum(lgr_hits)/150, np.sum(gfgwa_hits)/150, np.sum(cmor_hits)/150)"
   ]
  },
  {
   "cell_type": "code",
   "execution_count": 12,
   "metadata": {},
   "outputs": [
    {
     "name": "stdout",
     "output_type": "stream",
     "text": [
      "4.433333333333334 3.1 4.5\n"
     ]
    }
   ],
   "source": [
    "print(np.mean(lgr_hits), np.mean(gfgwa_hits), np.mean(cmor_hits))"
   ]
  },
  {
   "cell_type": "code",
   "execution_count": 13,
   "metadata": {},
   "outputs": [
    {
     "name": "stdout",
     "output_type": "stream",
     "text": [
      "0.6155395104206464 1.044030650891055 0.5627314338711378\n"
     ]
    }
   ],
   "source": [
    "print(np.std(lgr_hits), np.std(gfgwa_hits), np.std(cmor_hits))"
   ]
  },
  {
   "cell_type": "code",
   "execution_count": 14,
   "metadata": {},
   "outputs": [
    {
     "data": {
      "text/plain": [
       "<matplotlib.collections.PathCollection at 0x7f5a0242fc80>"
      ]
     },
     "execution_count": 14,
     "metadata": {},
     "output_type": "execute_result"
    },
    {
     "data": {
      "image/png": "[encoded data removed]",
      "text/plain": [
       "<Figure size 640x480 with 1 Axes>"
      ]
     },
     "metadata": {},
     "output_type": "display_data"
    }
   ],
   "source": [
    "y= lgr_hits\n",
    "plt.scatter(y=y, x = np.random.normal(1, 0.04, size=len(y)), alpha=0.5, edgecolors='k')\n",
    "y= gfgwa_hits\n",
    "plt.scatter(y=y, x = np.random.normal(2, 0.04, size=len(y)), alpha=0.5, edgecolors='k')\n",
    "y= cmor_hits\n",
    "plt.scatter(y=y, x = np.random.normal(3, 0.04, size=len(y)), alpha=0.5, edgecolors='k')"
   ]
  },
  {
   "cell_type": "code",
   "execution_count": 15,
   "metadata": {},
   "outputs": [
    {
     "data": {
      "text/plain": [
       "Text(0, 0.5, 'Number of hits')"
      ]
     },
     "execution_count": 15,
     "metadata": {},
     "output_type": "execute_result"
    },
    {
     "data": {
      "image/png": "[encoded data removed]",
      "text/plain": [
       "<Figure size 500x300 with 1 Axes>"
      ]
     },
     "metadata": {},
     "output_type": "display_data"
    }
   ],
   "source": [
    "plt.figure(figsize=(5, 3))\n",
    "plt.boxplot([lgr_hits, gfgwa_hits, cmor_hits], \n",
    "            labels=['LGR hits', 'GFGWA hits', 'CMOR hits'])\n",
    "plt.ylabel(\"Number of hits\")"
   ]
  },
  {
   "cell_type": "code",
   "execution_count": 16,
   "metadata": {},
   "outputs": [
    {
     "data": {
      "text/plain": [
       "3"
      ]
     },
     "execution_count": 16,
     "metadata": {},
     "output_type": "execute_result"
    }
   ],
   "source": [
    "min(lgr_hits)"
   ]
  },
  {
   "cell_type": "code",
   "execution_count": 23,
   "metadata": {},
   "outputs": [
    {
     "data": {
      "image/png": "[encoded data removed]",
      "text/plain": [
       "<Figure size 500x300 with 1 Axes>"
      ]
     },
     "metadata": {},
     "output_type": "display_data"
    }
   ],
   "source": [
    "#print(merged_df.head())\n",
    "plt.figure(figsize=(5, 3))\n",
    "plt.boxplot([lgr_hits, gfgwa_hits, cmor_hits], \n",
    "            labels=['LGR hits', 'GFGWA hits', 'CMOR hits'])\n",
    "y= lgr_hits\n",
    "plt.scatter(y=y, x = np.random.normal(1, 0.04, size=len(y)), alpha=0.5, edgecolors='k')\n",
    "y= gfgwa_hits\n",
    "plt.scatter(y=y, x = np.random.normal(2, 0.04, size=len(y)), alpha=0.5, edgecolors='k')\n",
    "y= cmor_hits\n",
    "plt.scatter(y=y, x = np.random.normal(3, 0.04, size=len(y)), alpha=0.5, edgecolors='k')\n",
    "plt.ylabel(\"Number of hits\")\n",
    "plt.savefig(\"../../figures/magnetic_field_simulations_aggregate.pdf\")\n",
    "plt.savefig(\"../../figures/magnetic_field_simulations_aggregate.png\")"
   ]
  },
  {
   "cell_type": "code",
   "execution_count": 18,
   "metadata": {},
   "outputs": [],
   "source": [
    "output_df = pd.DataFrame()\n",
    "output_df[\"LGR_hits\"] = lgr_hits\n",
    "output_df[\"GFGWA_hits\"] = gfgwa_hits\n",
    "output_df[\"CMOR\"] = cmor_hits"
   ]
  },
  {
   "cell_type": "code",
   "execution_count": 19,
   "metadata": {},
   "outputs": [],
   "source": [
    "output_df.to_csv(\"GFGWA_LGR_CMOR.csv\")"
   ]
  },
  {
   "cell_type": "code",
   "execution_count": 20,
   "metadata": {},
   "outputs": [
    {
     "data": {
      "text/html": [
       "<div>\n",
       "<style scoped>\n",
       "    .dataframe tbody tr th:only-of-type {\n",
       "        vertical-align: middle;\n",
       "    }\n",
       "\n",
       "    .dataframe tbody tr th {\n",
       "        vertical-align: top;\n",
       "    }\n",
       "\n",
       "    .dataframe thead th {\n",
       "        text-align: right;\n",
       "    }\n",
       "</style>\n",
       "<table border=\"1\" class=\"dataframe\">\n",
       "  <thead>\n",
       "    <tr style=\"text-align: right;\">\n",
       "      <th></th>\n",
       "      <th>Feature</th>\n",
       "      <th>p-value</th>\n",
       "      <th>percentile_GFGWA</th>\n",
       "    </tr>\n",
       "  </thead>\n",
       "  <tbody>\n",
       "    <tr>\n",
       "      <th>19314</th>\n",
       "      <td>Feature_19314</td>\n",
       "      <td>0.000010</td>\n",
       "      <td>1.000000</td>\n",
       "    </tr>\n",
       "    <tr>\n",
       "      <th>13640</th>\n",
       "      <td>Feature_13640</td>\n",
       "      <td>0.000024</td>\n",
       "      <td>0.999950</td>\n",
       "    </tr>\n",
       "    <tr>\n",
       "      <th>1827</th>\n",
       "      <td>Feature_1827</td>\n",
       "      <td>0.000057</td>\n",
       "      <td>0.999900</td>\n",
       "    </tr>\n",
       "    <tr>\n",
       "      <th>7752</th>\n",
       "      <td>Feature_7752</td>\n",
       "      <td>0.000139</td>\n",
       "      <td>0.999850</td>\n",
       "    </tr>\n",
       "    <tr>\n",
       "      <th>1858</th>\n",
       "      <td>Feature_1858</td>\n",
       "      <td>0.000181</td>\n",
       "      <td>0.999800</td>\n",
       "    </tr>\n",
       "    <tr>\n",
       "      <th>...</th>\n",
       "      <td>...</td>\n",
       "      <td>...</td>\n",
       "      <td>...</td>\n",
       "    </tr>\n",
       "    <tr>\n",
       "      <th>5117</th>\n",
       "      <td>Feature_5117</td>\n",
       "      <td>1.000544</td>\n",
       "      <td>0.000225</td>\n",
       "    </tr>\n",
       "    <tr>\n",
       "      <th>18566</th>\n",
       "      <td>Feature_18566</td>\n",
       "      <td>1.000544</td>\n",
       "      <td>0.000225</td>\n",
       "    </tr>\n",
       "    <tr>\n",
       "      <th>13801</th>\n",
       "      <td>Feature_13801</td>\n",
       "      <td>1.000569</td>\n",
       "      <td>0.000150</td>\n",
       "    </tr>\n",
       "    <tr>\n",
       "      <th>630</th>\n",
       "      <td>Feature_630</td>\n",
       "      <td>1.000572</td>\n",
       "      <td>0.000075</td>\n",
       "    </tr>\n",
       "    <tr>\n",
       "      <th>4227</th>\n",
       "      <td>Feature_4227</td>\n",
       "      <td>1.000572</td>\n",
       "      <td>0.000075</td>\n",
       "    </tr>\n",
       "  </tbody>\n",
       "</table>\n",
       "<p>20000 rows × 3 columns</p>\n",
       "</div>"
      ],
      "text/plain": [
       "             Feature   p-value  percentile_GFGWA\n",
       "19314  Feature_19314  0.000010          1.000000\n",
       "13640  Feature_13640  0.000024          0.999950\n",
       "1827    Feature_1827  0.000057          0.999900\n",
       "7752    Feature_7752  0.000139          0.999850\n",
       "1858    Feature_1858  0.000181          0.999800\n",
       "...              ...       ...               ...\n",
       "5117    Feature_5117  1.000544          0.000225\n",
       "18566  Feature_18566  1.000544          0.000225\n",
       "13801  Feature_13801  1.000569          0.000150\n",
       "630      Feature_630  1.000572          0.000075\n",
       "4227    Feature_4227  1.000572          0.000075\n",
       "\n",
       "[20000 rows x 3 columns]"
      ]
     },
     "execution_count": 20,
     "metadata": {},
     "output_type": "execute_result"
    }
   ],
   "source": [
    "GFGWA_df"
   ]
  },
  {
   "cell_type": "code",
   "execution_count": 21,
   "metadata": {},
   "outputs": [
    {
     "data": {
      "text/plain": [
       "5"
      ]
     },
     "execution_count": 21,
     "metadata": {},
     "output_type": "execute_result"
    }
   ],
   "source": [
    "np.sum((merged_df[\"label\"].head(5)==True).astype(int))"
   ]
  },
  {
   "cell_type": "code",
   "execution_count": null,
   "metadata": {},
   "outputs": [],
   "source": []
  }
 ],
 "metadata": {
  "kernelspec": {
   "display_name": "mag",
   "language": "python",
   "name": "python3"
  },
  "language_info": {
   "codemirror_mode": {
    "name": "ipython",
    "version": 3
   },
   "file_extension": ".py",
   "mimetype": "text/x-python",
   "name": "python",
   "nbconvert_exporter": "python",
   "pygments_lexer": "ipython3",
   "version": "3.12.0"
  }
 },
 "nbformat": 4,
 "nbformat_minor": 2
}
